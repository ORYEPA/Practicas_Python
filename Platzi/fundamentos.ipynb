{
 "cells": [
  {
   "cell_type": "code",
   "execution_count": 1,
   "metadata": {},
   "outputs": [
    {
     "name": "stdout",
     "output_type": "stream",
     "text": [
      "The Zen of Python, by Tim Peters\n",
      "\n",
      "Beautiful is better than ugly.\n",
      "Explicit is better than implicit.\n",
      "Simple is better than complex.\n",
      "Complex is better than complicated.\n",
      "Flat is better than nested.\n",
      "Sparse is better than dense.\n",
      "Readability counts.\n",
      "Special cases aren't special enough to break the rules.\n",
      "Although practicality beats purity.\n",
      "Errors should never pass silently.\n",
      "Unless explicitly silenced.\n",
      "In the face of ambiguity, refuse the temptation to guess.\n",
      "There should be one-- and preferably only one --obvious way to do it.\n",
      "Although that way may not be obvious at first unless you're Dutch.\n",
      "Now is better than never.\n",
      "Although never is often better than *right* now.\n",
      "If the implementation is hard to explain, it's a bad idea.\n",
      "If the implementation is easy to explain, it may be a good idea.\n",
      "Namespaces are one honking great idea -- let's do more of those!\n"
     ]
    }
   ],
   "source": [
    "import this\n"
   ]
  },
  {
   "cell_type": "code",
   "execution_count": 2,
   "metadata": {},
   "outputs": [
    {
     "name": "stdout",
     "output_type": "stream",
     "text": [
      "{'valo', 'fall gays', 'lol', 'minecraft'}\n",
      "<class 'set'>\n",
      "{1, 12, 'feo'}\n",
      "{'d', 'u', 'a', 'y'}\n"
     ]
    }
   ],
   "source": [
    "set_games={'valo','lol','minecraft','fall gays'}\n",
    "print(set_games)\n",
    "print(type(set_games))\n",
    "set_ex={1,'feo',12,True}\n",
    "print(set_ex)\n",
    "set_from_s=set('ayudaaaaaaaaaaaaa')\n",
    "print(set_from_s)"
   ]
  },
  {
   "cell_type": "code",
   "execution_count": 3,
   "metadata": {},
   "outputs": [
    {
     "name": "stdout",
     "output_type": "stream",
     "text": [
      "{'valo', 'fall gays', 'tft', 'minecraft', 'lol'}\n",
      "{'valo', 'fall gays', 'sao', 'tft', 'minecraft', 'outlas', 'lol'}\n"
     ]
    }
   ],
   "source": [
    "#add\n",
    "set_games.add('tft')\n",
    "print(set_games)\n",
    "#update\n",
    "set_games.update({'outlas','sao'})\n",
    "print(set_games)\n"
   ]
  },
  {
   "cell_type": "code",
   "execution_count": 4,
   "metadata": {},
   "outputs": [
    {
     "name": "stdout",
     "output_type": "stream",
     "text": [
      "{'valo', 'fall gays', 'sao', 'tft', 'minecraft', 'lol'}\n"
     ]
    }
   ],
   "source": [
    "#remove\n",
    "set_games.remove('outlas')\n",
    "print(set_games)"
   ]
  },
  {
   "cell_type": "code",
   "execution_count": 5,
   "metadata": {},
   "outputs": [
    {
     "name": "stdout",
     "output_type": "stream",
     "text": [
      "True\n",
      "True\n"
     ]
    }
   ],
   "source": [
    "#operadores de comparacion\n",
    "print (4 != 10)\n",
    "print (8000 > 3330)\n"
   ]
  },
  {
   "cell_type": "code",
   "execution_count": 13,
   "metadata": {},
   "outputs": [
    {
     "name": "stdout",
     "output_type": "stream",
     "text": [
      "False\n",
      "False\n",
      "True\n",
      "True\n"
     ]
    }
   ],
   "source": [
    "#operadores logicos and y or\n",
    "# print(True and True)\n",
    "print(True and False)\n",
    "# print(False and False)\n",
    "# print(True or False)\n",
    "print(False or False)\n",
    "\n",
    "print (5 != 9 and 5 <=6)\n",
    "\n",
    "print (5 != 9 or 5 == 6)"
   ]
  },
  {
   "cell_type": "code",
   "execution_count": 7,
   "metadata": {},
   "outputs": [
    {
     "name": "stdout",
     "output_type": "stream",
     "text": [
      "[1, 2, 3, 4]\n",
      "<class 'list'>\n",
      "[1, 2, 3, 5]\n",
      "[1, 2]\n"
     ]
    }
   ],
   "source": [
    "#listas\n",
    "lista=[1,2,3,4]\n",
    "print(lista)\n",
    "print(type(lista))\n",
    "lista[3]=5\n",
    "print(lista)\n",
    "print(lista[:2])\n",
    "\n"
   ]
  },
  {
   "cell_type": "code",
   "execution_count": 8,
   "metadata": {},
   "outputs": [
    {
     "name": "stdout",
     "output_type": "stream",
     "text": [
      "(1, 2, 2, 3, 45, 787)\n",
      "<class 'tuple'>\n",
      "3\n"
     ]
    }
   ],
   "source": [
    "#Tuplas o tuples\n",
    "tuplas=(1,2,2,3,45,787)\n",
    "print (tuplas)\n",
    "print(type(tuplas))\n",
    "print (tuplas[3])"
   ]
  },
  {
   "cell_type": "code",
   "execution_count": 9,
   "metadata": {},
   "outputs": [
    {
     "name": "stdout",
     "output_type": "stream",
     "text": [
      "water\n",
      "fire\n",
      "wind\n",
      "earth\n"
     ]
    }
   ],
   "source": [
    "elements=['water','fire','wind','earth']\n",
    "for elements in elements:\n",
    "    print (elements)"
   ]
  },
  {
   "cell_type": "code",
   "execution_count": 10,
   "metadata": {},
   "outputs": [
    {
     "name": "stdout",
     "output_type": "stream",
     "text": [
      "36.0\n"
     ]
    }
   ],
   "source": [
    "print((8/2)+4*8)"
   ]
  },
  {
   "cell_type": "code",
   "execution_count": 14,
   "metadata": {},
   "outputs": [
    {
     "name": "stdout",
     "output_type": "stream",
     "text": [
      "[4, 6, 8, 20]\n"
     ]
    }
   ],
   "source": [
    "gg=[1,2,3,4,5,6,7,8,9,20]\n",
    "print(gg[3:10:2])"
   ]
  },
  {
   "cell_type": "code",
   "execution_count": 15,
   "metadata": {},
   "outputs": [
    {
     "name": "stdout",
     "output_type": "stream",
     "text": [
      "4\n"
     ]
    }
   ],
   "source": [
    "ops=int(4.56)\n",
    "print(ops)"
   ]
  },
  {
   "cell_type": "code",
   "execution_count": 16,
   "metadata": {},
   "outputs": [
    {
     "name": "stdout",
     "output_type": "stream",
     "text": [
      "True\n"
     ]
    }
   ],
   "source": [
    "print(990 >=100)"
   ]
  },
  {
   "cell_type": "code",
   "execution_count": null,
   "metadata": {},
   "outputs": [],
   "source": []
  }
 ],
 "metadata": {
  "kernelspec": {
   "display_name": "Python 3",
   "language": "python",
   "name": "python3"
  },
  "language_info": {
   "codemirror_mode": {
    "name": "ipython",
    "version": 3
   },
   "file_extension": ".py",
   "mimetype": "text/x-python",
   "name": "python",
   "nbconvert_exporter": "python",
   "pygments_lexer": "ipython3",
   "version": "3.9.13"
  },
  "orig_nbformat": 4
 },
 "nbformat": 4,
 "nbformat_minor": 2
}
