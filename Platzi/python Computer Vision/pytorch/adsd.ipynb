{
 "cells": [
  {
   "cell_type": "code",
   "execution_count": 1,
   "metadata": {},
   "outputs": [],
   "source": [
    "import torch\n",
    "import torch.nn as nn"
   ]
  },
  {
   "cell_type": "code",
   "execution_count": 2,
   "metadata": {},
   "outputs": [
    {
     "name": "stdout",
     "output_type": "stream",
     "text": [
      "TextClassifier(\n",
      "  (embedding): Embedding(10000, 100)\n",
      "  (rnn): LSTM(100, 256, num_layers=2, batch_first=True)\n",
      "  (fc): Linear(in_features=256, out_features=2, bias=True)\n",
      ")\n"
     ]
    }
   ],
   "source": [
    "class TextClassifier(nn.Module):\n",
    "    def __init__(self, vocab_size, embedding_dim, hidden_dim, output_dim):\n",
    "        super().__init__()\n",
    "\n",
    "        # Capa de embedding para mapear índices de palabras a vectores de embeddings\n",
    "        self.embedding = nn.Embedding(vocab_size, embedding_dim)\n",
    "\n",
    "        # Capa LSTM para procesar los embeddings y obtener estados ocultos\n",
    "        self.rnn = nn.LSTM(embedding_dim, hidden_dim, num_layers=2, batch_first=True)\n",
    "\n",
    "        # Capa lineal para proyectar el último estado oculto en la salida final\n",
    "        self.fc = nn.Linear(hidden_dim, output_dim)\n",
    "\n",
    "    def forward(self, text):\n",
    "        # Obtener los embeddings de las palabras\n",
    "        embedded = self.embedding(text)\n",
    "\n",
    "        # Propagar los embeddings a través de la capa LSTM\n",
    "        output, (hidden, cell) = self.rnn(embedded)\n",
    "\n",
    "        # Seleccionar el último estado oculto como estado final\n",
    "        final_hidden = hidden[-1]\n",
    "\n",
    "        # Pasar el estado final a través de la capa lineal para obtener la salida final\n",
    "        return self.fc(final_hidden)\n",
    "\n",
    "\n",
    "# Parámetros del modelo\n",
    "vocab_size = 10000\n",
    "embedding_dim = 100\n",
    "hidden_dim = 256\n",
    "output_dim = 2\n",
    "\n",
    "# Crear instancia del modelo\n",
    "model = TextClassifier(vocab_size, embedding_dim, hidden_dim, output_dim)\n",
    "\n",
    "# Imprimir la estructura del modelo\n",
    "print(model)"
   ]
  },
  {
   "cell_type": "code",
   "execution_count": null,
   "metadata": {},
   "outputs": [],
   "source": []
  }
 ],
 "metadata": {
  "kernelspec": {
   "display_name": "Python 3",
   "language": "python",
   "name": "python3"
  },
  "language_info": {
   "codemirror_mode": {
    "name": "ipython",
    "version": 3
   },
   "file_extension": ".py",
   "mimetype": "text/x-python",
   "name": "python",
   "nbconvert_exporter": "python",
   "pygments_lexer": "ipython3",
   "version": "3.9.13"
  },
  "orig_nbformat": 4
 },
 "nbformat": 4,
 "nbformat_minor": 2
}
