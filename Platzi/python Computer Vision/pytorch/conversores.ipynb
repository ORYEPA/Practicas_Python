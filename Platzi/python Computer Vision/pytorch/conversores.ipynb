{
 "cells": [
  {
   "cell_type": "code",
   "execution_count": 9,
   "metadata": {},
   "outputs": [],
   "source": [
    "import torch\n",
    "import numpy as np"
   ]
  },
  {
   "cell_type": "code",
   "execution_count": 10,
   "metadata": {},
   "outputs": [],
   "source": [
    "vector = np.ones(5)\n",
    "torch.from_numpy(vector).dtype\n",
    "zeros_tensor= torch.zeros((3,4))\n",
    "\n",
    "ones_tensor= torch.ones((3,4))\n",
    "\n",
    "random_tensor=torch.randn((4))"
   ]
  },
  {
   "cell_type": "code",
   "execution_count": 18,
   "metadata": {},
   "outputs": [
    {
     "name": "stdout",
     "output_type": "stream",
     "text": [
      "multiply tensor([[ 0.2667,  0.5848, -0.4079,  0.4649],\n",
      "        [ 0.2667,  0.5848, -0.4079,  0.4649],\n",
      "        [ 0.2667,  0.5848, -0.4079,  0.4649]])\n",
      "divided tensor([[ 0.2667,  0.5848, -0.4079,  0.4649],\n",
      "        [ 0.2667,  0.5848, -0.4079,  0.4649],\n",
      "        [ 0.2667,  0.5848, -0.4079,  0.4649]])\n"
     ]
    }
   ],
   "source": [
    "#element-wise o vectores/matrices etc con el mismo ttamaño\n",
    "added_tensor=ones_tensor * random_tensor\n",
    "print(\"multiply\",added_tensor)\n",
    "divided_tensor=random_tensor/ones_tensor\n",
    "print(\"divided\",divided_tensor)"
   ]
  }
 ],
 "metadata": {
  "kernelspec": {
   "display_name": "Python 3",
   "language": "python",
   "name": "python3"
  },
  "language_info": {
   "codemirror_mode": {
    "name": "ipython",
    "version": 3
   },
   "file_extension": ".py",
   "mimetype": "text/x-python",
   "name": "python",
   "nbconvert_exporter": "python",
   "pygments_lexer": "ipython3",
   "version": "3.9.13"
  },
  "orig_nbformat": 4
 },
 "nbformat": 4,
 "nbformat_minor": 2
}
