{
 "cells": [
  {
   "cell_type": "code",
   "execution_count": 1,
   "metadata": {},
   "outputs": [],
   "source": [
    "import torch\n",
    "from torch import nn \n",
    "import matplotlib.pyplot as plt"
   ]
  },
  {
   "cell_type": "code",
   "execution_count": 2,
   "metadata": {},
   "outputs": [
    {
     "name": "stdout",
     "output_type": "stream",
     "text": [
      "Shape de X: torch.Size([40, 1])\n",
      "Shape de y: torch.Size([40, 1])\n"
     ]
    },
    {
     "data": {
      "text/plain": [
       "(tensor([[0.0000],\n",
       "         [0.0250],\n",
       "         [0.0500],\n",
       "         [0.0750],\n",
       "         [0.1000],\n",
       "         [0.1250],\n",
       "         [0.1500],\n",
       "         [0.1750],\n",
       "         [0.2000],\n",
       "         [0.2250]]),\n",
       " tensor([[0.2000],\n",
       "         [0.2200],\n",
       "         [0.2400],\n",
       "         [0.2600],\n",
       "         [0.2800],\n",
       "         [0.3000],\n",
       "         [0.3200],\n",
       "         [0.3400],\n",
       "         [0.3600],\n",
       "         [0.3800]]))"
      ]
     },
     "execution_count": 2,
     "metadata": {},
     "output_type": "execute_result"
    }
   ],
   "source": [
    "volumen = 0.8\n",
    "sesgo = 0.2\n",
    "\n",
    "# Crea datos\n",
    "inicio = 0\n",
    "final = 1\n",
    "step = 0.025\n",
    "X = torch.arange(inicio, final, step).unsqueeze(dim=1)\n",
    "print(f\"Shape de X: {X.shape}\")\n",
    "y = volumen * X + sesgo\n",
    "print(f\"Shape de y: {y.shape}\")\n",
    "\n",
    "X[:10], y[:10]"
   ]
  },
  {
   "cell_type": "code",
   "execution_count": null,
   "metadata": {},
   "outputs": [],
   "source": []
  }
 ],
 "metadata": {
  "kernelspec": {
   "display_name": "Python 3",
   "language": "python",
   "name": "python3"
  },
  "language_info": {
   "codemirror_mode": {
    "name": "ipython",
    "version": 3
   },
   "file_extension": ".py",
   "mimetype": "text/x-python",
   "name": "python",
   "nbconvert_exporter": "python",
   "pygments_lexer": "ipython3",
   "version": "3.9.13"
  },
  "orig_nbformat": 4
 },
 "nbformat": 4,
 "nbformat_minor": 2
}
