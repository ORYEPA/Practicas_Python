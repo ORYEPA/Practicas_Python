{
 "cells": [
  {
   "cell_type": "code",
   "execution_count": 9,
   "metadata": {},
   "outputs": [],
   "source": [
    "#ejercicios de pytorch\n",
    "import torch"
   ]
  },
  {
   "cell_type": "code",
   "execution_count": 10,
   "metadata": {},
   "outputs": [
    {
     "name": "stdout",
     "output_type": "stream",
     "text": [
      "tensor([1, 2, 3, 4, 5])\n"
     ]
    }
   ],
   "source": [
    "#tensores , en si lo mismo que un array en numpy\n",
    "V_data = [1, 2, 3, 4, 5]\n",
    "V = torch.tensor(V_data)\n",
    "print(V)"
   ]
  },
  {
   "cell_type": "code",
   "execution_count": 11,
   "metadata": {},
   "outputs": [
    {
     "name": "stdout",
     "output_type": "stream",
     "text": [
      "tensor([[[-0.5941, -2.2063,  0.5739,  1.2033,  0.4311],\n",
      "         [ 0.2627, -3.2469,  0.7036,  0.0250,  0.9762],\n",
      "         [-2.3787,  0.6626,  0.6021, -0.3901, -0.7141],\n",
      "         [-1.3435,  0.3579, -2.3185,  0.1093,  3.0322]],\n",
      "\n",
      "        [[-0.2779, -3.3407, -0.3278, -2.2438, -1.1157],\n",
      "         [-0.2015, -0.6515, -0.1435,  0.5974, -1.6184],\n",
      "         [-0.0513, -0.2335,  0.4105, -0.9901, -0.7384],\n",
      "         [-0.2432,  0.4167, -1.4882, -1.6144, -0.9662]],\n",
      "\n",
      "        [[ 0.3384, -0.4125, -0.2614, -1.4303,  0.6686],\n",
      "         [-0.3424,  0.7220, -1.2482,  1.2497,  0.5927],\n",
      "         [ 1.1828,  0.6808, -1.3605, -0.7495, -0.4579],\n",
      "         [-0.4365, -0.7817, -1.0217,  0.3818,  0.0448]]])\n"
     ]
    }
   ],
   "source": [
    "x = torch.randn((3, 4, 5))\n",
    "print(x)"
   ]
  },
  {
   "cell_type": "code",
   "execution_count": 12,
   "metadata": {},
   "outputs": [
    {
     "name": "stdout",
     "output_type": "stream",
     "text": [
      "tensor([[0, 0, 0],\n",
      "        [0, 0, 0],\n",
      "        [0, 0, 0]], dtype=torch.int32)\n"
     ]
    }
   ],
   "source": [
    "z= torch.zeros([3,3], dtype=torch.int32)\n",
    "print(z)"
   ]
  },
  {
   "cell_type": "code",
   "execution_count": 13,
   "metadata": {},
   "outputs": [
    {
     "name": "stdout",
     "output_type": "stream",
     "text": [
      "tensor([[3.1400, 3.1400, 3.1400],\n",
      "        [3.1400, 3.1400, 3.1400],\n",
      "        [3.1400, 3.1400, 3.1400],\n",
      "        [3.1400, 3.1400, 3.1400]])\n"
     ]
    }
   ],
   "source": [
    "newTensor= torch.full((4, 3), 3.14,dtype= torch.float32)\n",
    "print(newTensor)"
   ]
  }
 ],
 "metadata": {
  "kernelspec": {
   "display_name": "Python 3",
   "language": "python",
   "name": "python3"
  },
  "language_info": {
   "codemirror_mode": {
    "name": "ipython",
    "version": 3
   },
   "file_extension": ".py",
   "mimetype": "text/x-python",
   "name": "python",
   "nbconvert_exporter": "python",
   "pygments_lexer": "ipython3",
   "version": "3.9.13"
  },
  "orig_nbformat": 4
 },
 "nbformat": 4,
 "nbformat_minor": 2
}
