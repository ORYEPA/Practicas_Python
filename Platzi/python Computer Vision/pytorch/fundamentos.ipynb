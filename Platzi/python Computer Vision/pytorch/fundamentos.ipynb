{
 "cells": [
  {
   "cell_type": "code",
   "execution_count": 2,
   "metadata": {},
   "outputs": [],
   "source": [
    "#ejercicios de pytorch\n",
    "import torch"
   ]
  },
  {
   "cell_type": "code",
   "execution_count": 3,
   "metadata": {},
   "outputs": [
    {
     "name": "stdout",
     "output_type": "stream",
     "text": [
      "tensor([1, 2, 3, 4, 5])\n"
     ]
    }
   ],
   "source": [
    "#tensores , en si lo mismo que un array en numpy\n",
    "V_data = [1, 2, 3, 4, 5]\n",
    "V = torch.tensor(V_data)\n",
    "print(V)"
   ]
  },
  {
   "cell_type": "code",
   "execution_count": 4,
   "metadata": {},
   "outputs": [
    {
     "name": "stdout",
     "output_type": "stream",
     "text": [
      "tensor([[[-0.3641, -0.7534, -1.0666,  0.0947, -3.6514],\n",
      "         [ 0.1866, -0.2877, -2.2462, -2.1561, -0.1112],\n",
      "         [-0.4857, -1.0916,  0.6168,  0.9445, -0.8462],\n",
      "         [-0.3658, -0.8979, -0.6170, -0.0915,  0.9221]],\n",
      "\n",
      "        [[ 1.1087,  0.1873, -1.0590,  0.6929, -0.6989],\n",
      "         [ 0.4501, -0.4197, -0.3023,  0.2668,  1.0982],\n",
      "         [-0.6097, -0.0290,  0.2174,  0.4722,  0.9905],\n",
      "         [-0.9502,  0.1584, -0.7167, -1.0798,  1.1546]],\n",
      "\n",
      "        [[ 1.1652, -1.4117,  1.2780, -0.8846,  0.3612],\n",
      "         [-0.1954, -1.1338,  1.6472,  0.1787, -0.6475],\n",
      "         [-0.4227,  0.7728, -1.0021,  0.1159, -1.3010],\n",
      "         [-0.0558, -0.1391,  0.1266, -0.7312, -0.2187]]])\n"
     ]
    }
   ],
   "source": [
    "x = torch.randn((3, 4, 5))\n",
    "print(x)"
   ]
  },
  {
   "cell_type": "code",
   "execution_count": 5,
   "metadata": {},
   "outputs": [
    {
     "name": "stdout",
     "output_type": "stream",
     "text": [
      "tensor([[0, 0, 0],\n",
      "        [0, 0, 0],\n",
      "        [0, 0, 0]], dtype=torch.int32)\n"
     ]
    }
   ],
   "source": [
    "z= torch.zeros([3,3], dtype=torch.int32)\n",
    "print(z)"
   ]
  },
  {
   "cell_type": "code",
   "execution_count": 6,
   "metadata": {},
   "outputs": [
    {
     "name": "stdout",
     "output_type": "stream",
     "text": [
      "tensor([[3.1400, 3.1400, 3.1400],\n",
      "        [3.1400, 3.1400, 3.1400],\n",
      "        [3.1400, 3.1400, 3.1400],\n",
      "        [3.1400, 3.1400, 3.1400]])\n"
     ]
    }
   ],
   "source": [
    "newTensor= torch.full((4, 3), 3.14,dtype= torch.float32)\n",
    "print(newTensor)"
   ]
  },
  {
   "cell_type": "code",
   "execution_count": 12,
   "metadata": {},
   "outputs": [
    {
     "name": "stdout",
     "output_type": "stream",
     "text": [
      "3\n",
      "torch.float32\n",
      "cpu\n"
     ]
    }
   ],
   "source": [
    "#matriz de varias dimensiones\n",
    "\n",
    "escalar=torch.randn(1)\n",
    "vector=torch.zeros(1,10)\n",
    "matriz=torch.ones(2,2)\n",
    "tresdim=torch.randn(5,2,4)\n",
    "print(tresdim.ndim)\n",
    "print(tresdim.dtype)\n",
    "print(tresdim.device)\n"
   ]
  },
  {
   "cell_type": "code",
   "execution_count": 13,
   "metadata": {},
   "outputs": [
    {
     "data": {
      "text/plain": [
       "True"
      ]
     },
     "execution_count": 13,
     "metadata": {},
     "output_type": "execute_result"
    }
   ],
   "source": [
    "torch.cuda.is_available()"
   ]
  },
  {
   "cell_type": "code",
   "execution_count": 8,
   "metadata": {},
   "outputs": [
    {
     "data": {
      "text/plain": [
       "tensor([2, 2])"
      ]
     },
     "execution_count": 8,
     "metadata": {},
     "output_type": "execute_result"
    }
   ],
   "source": [
    "torch.tensor([2,2])"
   ]
  },
  {
   "cell_type": "code",
   "execution_count": null,
   "metadata": {},
   "outputs": [],
   "source": []
  }
 ],
 "metadata": {
  "kernelspec": {
   "display_name": "Python 3",
   "language": "python",
   "name": "python3"
  },
  "language_info": {
   "codemirror_mode": {
    "name": "ipython",
    "version": 3
   },
   "file_extension": ".py",
   "mimetype": "text/x-python",
   "name": "python",
   "nbconvert_exporter": "python",
   "pygments_lexer": "ipython3",
   "version": "3.9.13"
  },
  "orig_nbformat": 4
 },
 "nbformat": 4,
 "nbformat_minor": 2
}
