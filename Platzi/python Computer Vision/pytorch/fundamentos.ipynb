{
 "cells": [
  {
   "cell_type": "code",
   "execution_count": 1,
   "metadata": {},
   "outputs": [],
   "source": [
    "#ejercicios de pytorch\n",
    "import torch"
   ]
  },
  {
   "cell_type": "code",
   "execution_count": 2,
   "metadata": {},
   "outputs": [
    {
     "name": "stdout",
     "output_type": "stream",
     "text": [
      "tensor([1, 2, 3, 4, 5])\n"
     ]
    }
   ],
   "source": [
    "#tensores , en si lo mismo que un array en numpy\n",
    "V_data = [1, 2, 3, 4, 5]\n",
    "V = torch.tensor(V_data)\n",
    "print(V)"
   ]
  },
  {
   "cell_type": "code",
   "execution_count": 3,
   "metadata": {},
   "outputs": [
    {
     "name": "stdout",
     "output_type": "stream",
     "text": [
      "tensor([[[-0.3022,  0.1457, -0.5088, -0.5207, -0.0424],\n",
      "         [-2.9699,  0.6041,  0.2465,  0.8292, -0.3041],\n",
      "         [ 0.0830, -1.3246, -0.6233,  2.0271,  0.6181],\n",
      "         [ 0.1349,  2.5071, -0.1040, -1.6302, -0.8335]],\n",
      "\n",
      "        [[ 0.3473,  1.3052, -0.2536, -1.3461,  0.4200],\n",
      "         [ 0.4733, -0.2233, -1.6182,  0.0150,  0.5339],\n",
      "         [-0.6108, -0.6831,  0.7273, -0.3121,  1.4868],\n",
      "         [ 1.0587,  0.5607, -0.9027, -1.1002, -1.4115]],\n",
      "\n",
      "        [[ 0.2621, -1.0525,  0.1541, -2.3346,  0.1285],\n",
      "         [ 2.1342,  0.5870,  0.4405,  0.3479,  0.9167],\n",
      "         [-1.3825, -1.8205, -0.1796,  0.6415, -1.7063],\n",
      "         [-1.8089, -0.0096, -0.8542,  0.4676, -0.1519]]])\n"
     ]
    }
   ],
   "source": [
    "x = torch.randn((3, 4, 5))\n",
    "print(x)"
   ]
  },
  {
   "cell_type": "code",
   "execution_count": 4,
   "metadata": {},
   "outputs": [
    {
     "name": "stdout",
     "output_type": "stream",
     "text": [
      "tensor([[0, 0, 0],\n",
      "        [0, 0, 0],\n",
      "        [0, 0, 0]], dtype=torch.int32)\n"
     ]
    }
   ],
   "source": [
    "z= torch.zeros([3,3], dtype=torch.int32)\n",
    "print(z)"
   ]
  },
  {
   "cell_type": "code",
   "execution_count": 5,
   "metadata": {},
   "outputs": [
    {
     "name": "stdout",
     "output_type": "stream",
     "text": [
      "tensor([[3.1400, 3.1400, 3.1400],\n",
      "        [3.1400, 3.1400, 3.1400],\n",
      "        [3.1400, 3.1400, 3.1400],\n",
      "        [3.1400, 3.1400, 3.1400]])\n"
     ]
    }
   ],
   "source": [
    "newTensor= torch.full((4, 3), 3.14,dtype= torch.float32)\n",
    "print(newTensor)"
   ]
  },
  {
   "cell_type": "code",
   "execution_count": 13,
   "metadata": {},
   "outputs": [
    {
     "name": "stdout",
     "output_type": "stream",
     "text": [
      "torch.Size([2, 2])\n"
     ]
    }
   ],
   "source": [
    "#matriz de varias dimensiones\n",
    "\n",
    "escalar=torch.randn(1)\n",
    "vector=torch.zeros(1,10)\n",
    "matriz=torch.ones(2,2)\n",
    "tresdim=torch.randn(5,2,4)\n",
    "print(matriz.shape)\n"
   ]
  },
  {
   "cell_type": "code",
   "execution_count": 11,
   "metadata": {},
   "outputs": [
    {
     "data": {
      "text/plain": [
       "tensor([2, 2])"
      ]
     },
     "execution_count": 11,
     "metadata": {},
     "output_type": "execute_result"
    }
   ],
   "source": [
    "torch.tensor([2,2])"
   ]
  }
 ],
 "metadata": {
  "kernelspec": {
   "display_name": "Python 3",
   "language": "python",
   "name": "python3"
  },
  "language_info": {
   "codemirror_mode": {
    "name": "ipython",
    "version": 3
   },
   "file_extension": ".py",
   "mimetype": "text/x-python",
   "name": "python",
   "nbconvert_exporter": "python",
   "pygments_lexer": "ipython3",
   "version": "3.9.13"
  },
  "orig_nbformat": 4
 },
 "nbformat": 4,
 "nbformat_minor": 2
}
