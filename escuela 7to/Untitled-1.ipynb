{
 "cells": [
  {
   "cell_type": "code",
   "execution_count": 1,
   "metadata": {},
   "outputs": [
    {
     "name": "stdout",
     "output_type": "stream",
     "text": [
      "Juan 20 1.62\n",
      "Maria 25 1.66\n"
     ]
    }
   ],
   "source": [
    "class Persona:\n",
    "\n",
    "    #Propiedad: nombre, edad, estatura    \n",
    "\n",
    "    def __init__(self, nombre, edad, estatura):\n",
    "\n",
    "        self.nombre = nombre\n",
    "\n",
    "        self.edad = edad\n",
    "\n",
    "        self.estatura = estatura\n",
    "\n",
    "    def getNombre(self):\n",
    "\n",
    "        return self.nombre\n",
    "\n",
    "   \n",
    "\n",
    "    def datos(self):\n",
    "\n",
    "        return self.nombre + \" \" + str(self.edad) + \" \"+ str(self.estatura)\n",
    "\n",
    "   \n",
    "\n",
    " \n",
    "\n",
    "per1 = Persona(\"Juan\",20,1.62)\n",
    "\n",
    "per2 = Persona(\"Maria\",25,1.66)\n",
    "\n",
    "print(per1.datos())\n",
    "\n",
    "print(per2.datos())"
   ]
  }
 ],
 "metadata": {
  "kernelspec": {
   "display_name": "Python 3",
   "language": "python",
   "name": "python3"
  },
  "language_info": {
   "codemirror_mode": {
    "name": "ipython",
    "version": 3
   },
   "file_extension": ".py",
   "mimetype": "text/x-python",
   "name": "python",
   "nbconvert_exporter": "python",
   "pygments_lexer": "ipython3",
   "version": "3.9.13"
  },
  "orig_nbformat": 4
 },
 "nbformat": 4,
 "nbformat_minor": 2
}
