{
 "cells": [
  {
   "cell_type": "code",
   "execution_count": 24,
   "metadata": {},
   "outputs": [],
   "source": [
    "#practicas de pandas\n",
    "import pandas as pd"
   ]
  },
  {
   "cell_type": "code",
   "execution_count": 25,
   "metadata": {},
   "outputs": [
    {
     "name": "stdout",
     "output_type": "stream",
     "text": [
      "x    1\n",
      "y    4\n",
      "z    3\n",
      "dtype: int64\n",
      "4\n"
     ]
    }
   ],
   "source": [
    "a = [1,4,3]\n",
    "ser1= pd.Series(a,index=['x','y','z'])\n",
    "print(ser1)\n",
    "print(ser1['y'])"
   ]
  },
  {
   "cell_type": "code",
   "execution_count": 26,
   "metadata": {},
   "outputs": [
    {
     "name": "stdout",
     "output_type": "stream",
     "text": [
      "lunes        420\n",
      "Martes       500\n",
      "miercoles    400\n",
      "dtype: int64\n"
     ]
    }
   ],
   "source": [
    "calorias= {'lunes':420,'Martes':500,'miercoles':400}\n",
    "c= pd.Series(calorias)\n",
    "print(c)"
   ]
  },
  {
   "cell_type": "code",
   "execution_count": 30,
   "metadata": {},
   "outputs": [
    {
     "name": "stdout",
     "output_type": "stream",
     "text": [
      " hola este es un programa para aprender las tablas de multiplicar\n",
      "6.0\n",
      "Correcto, El resultado de 6.0 multiplicado por 1 es 6.0\n",
      "Correcto, El resultado de 6.0 multiplicado por 2 es 12.0\n",
      "Correcto, El resultado de 6.0 multiplicado por 3 es 18.0\n",
      "Error, El resultado de 6.0 multiplicado por 4 es 24.0\n",
      "Correcto, El resultado de 6.0 multiplicado por 5 es 30.0\n",
      "Correcto, El resultado de 6.0 multiplicado por 6 es 36.0\n",
      "Correcto, El resultado de 6.0 multiplicado por 7 es 42.0\n",
      "Correcto, El resultado de 6.0 multiplicado por 8 es 48.0\n",
      "Correcto, El resultado de 6.0 multiplicado por 9 es 54.0\n",
      "Error, El resultado de 6.0 multiplicado por 10 es 60.0\n",
      "Excelente has obtenido 8 aciertos\n"
     ]
    }
   ],
   "source": [
    "saludar= \" hola este es un programa para aprender las tablas de multiplicar\"\n",
    "print (saludar)\n",
    "numTabla=float(input(\"Con que numero quieres practicar?\"))\n",
    "print(numTabla)\n",
    "aciertos=0\n",
    "for i in range(1,11):\n",
    "     \n",
    "    numMultiplo = float(input(\"Empecemos, ¿cuál es el resultado de multiplicar {} por {}? \".format(numTabla, i)))\n",
    "    resultado = numTabla * i\n",
    "    if (numTabla * i == numMultiplo):\n",
    "        print(f\"Correcto, El resultado de {numTabla} multiplicado por {i} es {resultado}\")\n",
    "        aciertos +=1 \n",
    "    else:\n",
    "        \n",
    "        print(f\"Error, El resultado de {numTabla} multiplicado por {i} es {resultado}\")\n",
    "\n",
    "\n",
    "print(f\"Excelente has obtenido {aciertos} aciertos de 10\")"
   ]
  }
 ],
 "metadata": {
  "kernelspec": {
   "display_name": "Python 3",
   "language": "python",
   "name": "python3"
  },
  "language_info": {
   "codemirror_mode": {
    "name": "ipython",
    "version": 3
   },
   "file_extension": ".py",
   "mimetype": "text/x-python",
   "name": "python",
   "nbconvert_exporter": "python",
   "pygments_lexer": "ipython3",
   "version": "3.9.13"
  },
  "orig_nbformat": 4
 },
 "nbformat": 4,
 "nbformat_minor": 2
}
