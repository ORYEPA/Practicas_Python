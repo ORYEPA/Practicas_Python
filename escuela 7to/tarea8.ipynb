{
 "cells": [
  {
   "cell_type": "code",
   "execution_count": 1,
   "metadata": {},
   "outputs": [],
   "source": [
    "#8 ejercicio"
   ]
  },
  {
   "cell_type": "code",
   "execution_count": 2,
   "metadata": {},
   "outputs": [
    {
     "name": "stdout",
     "output_type": "stream",
     "text": [
      "\n",
      "Estadísticas del día:\n",
      "Cantidad de viajes: 3\n",
      "Cantidad de personas transportadas: 14\n",
      "Peso transportado (kilos): 970.00\n",
      "Promedio de personas por viaje: 4.67\n",
      "Promedio de peso por viaje: 323.33\n"
     ]
    }
   ],
   "source": [
    "# Inicializar variables para las estadísticas\n",
    "cantidad_viajes = 0\n",
    "total_personas = 0\n",
    "total_peso = 0.0\n",
    "\n",
    "# Leer datos de los viajes\n",
    "while True:\n",
    "    try:\n",
    "        cantidad_personas = int(input(\"Cantidad de personas en el viaje (o -1 para terminar): \"))\n",
    "        \n",
    "        if cantidad_personas == -1:\n",
    "            break\n",
    "        \n",
    "        peso_viaje = float(input(\"Peso del viaje (kilos): \"))\n",
    "        \n",
    "        cantidad_viajes += 1\n",
    "        total_personas += cantidad_personas\n",
    "        total_peso += peso_viaje\n",
    "    except ValueError:\n",
    "        print(\"Entrada no válida. Ingrese un número válido.\")\n",
    "\n",
    "# Calcular promedios\n",
    "promedio_personas_por_viaje = total_personas / cantidad_viajes\n",
    "promedio_peso_por_viaje = total_peso / cantidad_viajes\n",
    "\n",
    "# Imprimir estadísticas del día\n",
    "print(\"\\nEstadísticas del día:\")\n",
    "print(\"Cantidad de viajes:\", cantidad_viajes)\n",
    "print(\"Cantidad de personas transportadas:\", total_personas)\n",
    "print(\"Peso transportado (kilos):\", format(total_peso, '.2f'))\n",
    "print(\"Promedio de personas por viaje:\", format(promedio_personas_por_viaje, '.2f'))\n",
    "print(\"Promedio de peso por viaje:\", format(promedio_peso_por_viaje, '.2f'))\n"
   ]
  }
 ],
 "metadata": {
  "kernelspec": {
   "display_name": "Python 3",
   "language": "python",
   "name": "python3"
  },
  "language_info": {
   "codemirror_mode": {
    "name": "ipython",
    "version": 3
   },
   "file_extension": ".py",
   "mimetype": "text/x-python",
   "name": "python",
   "nbconvert_exporter": "python",
   "pygments_lexer": "ipython3",
   "version": "3.9.13"
  },
  "orig_nbformat": 4
 },
 "nbformat": 4,
 "nbformat_minor": 2
}
