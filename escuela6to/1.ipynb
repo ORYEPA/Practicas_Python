{
 "cells": [
  {
   "attachments": {},
   "cell_type": "markdown",
   "metadata": {},
   "source": []
  },
  {
   "cell_type": "code",
   "execution_count": null,
   "metadata": {},
   "outputs": [],
   "source": [
    "a=9\n",
    "l=8\n",
    "k=8\n",
    "m=a+l+k\n",
    "print(\"me la pelas \",m, \"veces\")"
   ]
  },
  {
   "cell_type": "code",
   "execution_count": null,
   "metadata": {},
   "outputs": [],
   "source": [
    "import numpy as np #importe de libreria\n",
    "from matplotlib import pyplot as plt #pa plotear\n",
    "from PIL import Image"
   ]
  },
  {
   "cell_type": "code",
   "execution_count": null,
   "metadata": {},
   "outputs": [],
   "source": [
    "x=np.linspace(0,2*np.pi,400) # vector\n",
    "y=np.sin(x) \n",
    "fig, ax= plt.subplots()\n",
    "ax.plot(x,y)\n",
    "ax.set_title(\"funtion sin(x)\")\n"
   ]
  },
  {
   "cell_type": "code",
   "execution_count": null,
   "metadata": {},
   "outputs": [],
   "source": [
    "img=plt.imread(\"alacran.jpg\")\n",
    "plt.imshow(img)"
   ]
  },
  {
   "cell_type": "code",
   "execution_count": null,
   "metadata": {},
   "outputs": [],
   "source": [
    "fig1, ax1=plt.subplots()\n",
    "fig1.suptitle(\"funcion sin(x) \")\n",
    "ax1.plot(x,y)\n",
    "fig2, ax2=plt.subplots()\n",
    "ax2.imshow(img)"
   ]
  },
  {
   "cell_type": "code",
   "execution_count": null,
   "metadata": {},
   "outputs": [],
   "source": [
    "img_gray=np.dot(img,[0.2989,.5870,0.1140])\n",
    "plt.imshow(img_gray)\n",
    "plt.imshow(img_gray,cmap='gray',vmin=0,vmax=255)"
   ]
  },
  {
   "cell_type": "code",
   "execution_count": null,
   "metadata": {},
   "outputs": [],
   "source": [
    "from PIL import Image\n",
    "\n",
    "img_gray2=Image.open('gato.jpg').convert('L')\n",
    "img_gray2.save('alacran_byn.png')\n",
    "\n",
    "img_gray2=Image.open('alacran_byn.png')\n",
    "plt.imshow(img_gray2,cmap=\"gray\",vmin=0,vmax=255)"
   ]
  },
  {
   "cell_type": "code",
   "execution_count": 1,
   "metadata": {},
   "outputs": [
    {
     "data": {
      "text/plain": [
       "-1"
      ]
     },
     "execution_count": 1,
     "metadata": {},
     "output_type": "execute_result"
    }
   ],
   "source": [
    "\n",
    "import cv2\n",
    "im1 = cv2.imread('alacran_byn.png');\n",
    "cv2.imshow('image', im1 );\n",
    "cv2.waitKey(0)"
   ]
  }
 ],
 "metadata": {
  "kernelspec": {
   "display_name": "Python 3",
   "language": "python",
   "name": "python3"
  },
  "language_info": {
   "codemirror_mode": {
    "name": "ipython",
    "version": 3
   },
   "file_extension": ".py",
   "mimetype": "text/x-python",
   "name": "python",
   "nbconvert_exporter": "python",
   "pygments_lexer": "ipython3",
   "version": "3.9.13"
  },
  "orig_nbformat": 4,
  "vscode": {
   "interpreter": {
    "hash": "11938c6bc6919ae2720b4d5011047913343b08a43b18698fd82dedb0d4417594"
   }
  }
 },
 "nbformat": 4,
 "nbformat_minor": 2
}
