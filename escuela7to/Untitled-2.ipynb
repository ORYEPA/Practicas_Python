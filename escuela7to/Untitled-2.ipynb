{
 "cells": [
  {
   "cell_type": "code",
   "execution_count": 1,
   "metadata": {},
   "outputs": [],
   "source": [
    "import cv2\n",
    "import tkinter as tk\n",
    "from tkinter import filedialog\n",
    "import matplotlib.pyplot as plt\n",
    "\n",
    "# Función para detectar caras en la imagen seleccionada\n",
    "def detect_faces():\n",
    "    file_path = filedialog.askopenfilename()  # Abre un cuadro de diálogo para seleccionar una imagen\n",
    "    if not file_path:\n",
    "        return\n",
    "\n",
    "    # Cargamos la imagen\n",
    "    image = cv2.imread(file_path)\n",
    "\n",
    "    # Cargamos el clasificador de detección de caras preentrenado de OpenCV\n",
    "    face_cascade = cv2.CascadeClassifier(cv2.data.haarcascades + 'haarcascade_frontalface_default.xml')\n",
    "\n",
    "    # Convertimos la imagen a escala de grises\n",
    "    gray = cv2.cvtColor(image, cv2.COLOR_BGR2GRAY)\n",
    "\n",
    "    # Detectamos caras en la imagen\n",
    "    faces = face_cascade.detectMultiScale(gray, scaleFactor=1.1, minNeighbors=5, minSize=(30, 30))\n",
    "\n",
    "    # Dibujamos un círculo alrededor de cada cara detectada\n",
    "    for (x, y, w, h) in faces:\n",
    "        cv2.circle(image, (x + w // 2, y + h // 2), int(0.6 * w), (0, 255, 0), 2)\n",
    "\n",
    "    # Mostramos la imagen con los círculos\n",
    "    plt.imshow(cv2.cvtColor(image, cv2.COLOR_BGR2RGB))\n",
    "    plt.axis('off')\n",
    "    plt.show()\n",
    "\n",
    "    # Imprimimos el número de caras detectadas\n",
    "    print(f\"Número de caras detectadas: {len(faces)}\")\n",
    "\n",
    "# Crear una ventana de aplicación tkinter\n",
    "root = tk.Tk()\n",
    "root.withdraw()  # Oculta la ventana principal\n",
    "\n",
    "# Botón para seleccionar la imagen\n",
    "button = tk.Button(root, text=\"Seleccionar imagen\", command=detect_faces)\n",
    "button.pack()\n",
    "\n",
    "# Ejecutar la aplicación\n",
    "root.mainloop()\n"
   ]
  }
 ],
 "metadata": {
  "kernelspec": {
   "display_name": "Python 3",
   "language": "python",
   "name": "python3"
  },
  "language_info": {
   "codemirror_mode": {
    "name": "ipython",
    "version": 3
   },
   "file_extension": ".py",
   "mimetype": "text/x-python",
   "name": "python",
   "nbconvert_exporter": "python",
   "pygments_lexer": "ipython3",
   "version": "3.9.13"
  },
  "orig_nbformat": 4
 },
 "nbformat": 4,
 "nbformat_minor": 2
}
