{
 "cells": [
  {
   "cell_type": "code",
   "execution_count": 2,
   "metadata": {},
   "outputs": [
    {
     "name": "stdout",
     "output_type": "stream",
     "text": [
      " hola este es un programa para aprender las tablas de multiplicar\n",
      "5.0\n",
      "Correcto, El resultado de 5.0 multiplicado por 1 es 5.0\n",
      "Correcto, El resultado de 5.0 multiplicado por 2 es 10.0\n",
      "Correcto, El resultado de 5.0 multiplicado por 3 es 15.0\n",
      "Correcto, El resultado de 5.0 multiplicado por 4 es 20.0\n",
      "Correcto, El resultado de 5.0 multiplicado por 5 es 25.0\n",
      "Correcto, El resultado de 5.0 multiplicado por 6 es 30.0\n",
      "Correcto, El resultado de 5.0 multiplicado por 7 es 35.0\n",
      "Error, El resultado de 5.0 multiplicado por 8 es 40.0\n",
      "Correcto, El resultado de 5.0 multiplicado por 9 es 45.0\n",
      "Correcto, El resultado de 5.0 multiplicado por 10 es 50.0\n",
      "Excelente has obtenido 9 aciertos de 10\n"
     ]
    }
   ],
   "source": [
    "#primer punto de la tarea\n",
    "\n",
    "saludar= \" hola este es un programa para aprender las tablas de multiplicar\"\n",
    "print (saludar)\n",
    "numTabla=float(input(\"Con que numero quieres practicar?\"))\n",
    "print(numTabla)\n",
    "aciertos=0\n",
    "for i in range(1,11):\n",
    "     \n",
    "    numMultiplo = float(input(\"Empecemos, ¿cuál es el resultado de multiplicar {} por {}? \".format(numTabla, i)))\n",
    "    resultado = numTabla * i\n",
    "    if (numTabla * i == numMultiplo):\n",
    "        print(f\"Correcto, El resultado de {numTabla} multiplicado por {i} es {resultado}\")\n",
    "        aciertos +=1 \n",
    "    else:\n",
    "        \n",
    "        print(f\"Error, El resultado de {numTabla} multiplicado por {i} es {resultado}\")\n",
    "\n",
    "\n",
    "print(f\"Excelente has obtenido {aciertos} aciertos de 10\")"
   ]
  }
 ],
 "metadata": {
  "kernelspec": {
   "display_name": "Python 3",
   "language": "python",
   "name": "python3"
  },
  "language_info": {
   "codemirror_mode": {
    "name": "ipython",
    "version": 3
   },
   "file_extension": ".py",
   "mimetype": "text/x-python",
   "name": "python",
   "nbconvert_exporter": "python",
   "pygments_lexer": "ipython3",
   "version": "3.9.13"
  },
  "orig_nbformat": 4
 },
 "nbformat": 4,
 "nbformat_minor": 2
}
