{
 "cells": [
  {
   "cell_type": "code",
   "execution_count": 3,
   "metadata": {},
   "outputs": [],
   "source": [
    "#ejercicio 6"
   ]
  },
  {
   "cell_type": "code",
   "execution_count": 4,
   "metadata": {},
   "outputs": [
    {
     "name": "stdout",
     "output_type": "stream",
     "text": [
      "\n",
      "1. Realizar depósito\n",
      "2. Realizar retiro\n",
      "3. Terminar\n",
      "\n",
      "1. Realizar depósito\n",
      "2. Realizar retiro\n",
      "3. Terminar\n",
      "\n",
      "1. Realizar depósito\n",
      "2. Realizar retiro\n",
      "3. Terminar\n",
      "\n",
      "Reporte de Movimientos para andrea peyro\n",
      "Movimiento           Depósito        Retiro          Saldo          \n",
      "=================================================================\n",
      "Depósito             1000.0                          6000.0         \n",
      "Retiro                               2000.0          4000.0         \n",
      "-----------------------------------------------------------------\n",
      "Total:               1000.0          2000.0          4000.0         \n"
     ]
    }
   ],
   "source": [
    "# Inicializar el saldo y la lista de movimientos\n",
    "nombre_cuentahabiente = input(\"Ingrese el nombre del cuentahabiente: \")\n",
    "saldo = float(input(\"Ingrese el saldo inicial: \"))\n",
    "movimientos = []\n",
    "\n",
    "# Función para realizar un depósito\n",
    "def deposito(saldo, cantidad):\n",
    "    saldo += cantidad\n",
    "    return saldo\n",
    "\n",
    "# Función para realizar un retiro\n",
    "def retiro(saldo, cantidad):\n",
    "    saldo -= cantidad\n",
    "    return saldo\n",
    "\n",
    "# Bucle para realizar movimientos\n",
    "while True:\n",
    "    print(\"\\n1. Realizar depósito\")\n",
    "    print(\"2. Realizar retiro\")\n",
    "    print(\"3. Terminar\")\n",
    "    \n",
    "    opcion = input(\"Seleccione una opción: \")\n",
    "    \n",
    "    if opcion == \"1\":\n",
    "        cantidad = float(input(\"Ingrese la cantidad a depositar: \"))\n",
    "        saldo = deposito(saldo, cantidad)\n",
    "        movimientos.append([\"Depósito\", cantidad, saldo])\n",
    "    elif opcion == \"2\":\n",
    "        cantidad = float(input(\"Ingrese la cantidad a retirar: \"))\n",
    "        if cantidad > saldo:\n",
    "            print(\"No tiene suficiente saldo para este retiro.\")\n",
    "        else:\n",
    "            saldo = retiro(saldo, cantidad)\n",
    "            movimientos.append([\"Retiro\", cantidad, saldo])\n",
    "    elif opcion == \"3\":\n",
    "        break\n",
    "    else:\n",
    "        print(\"Opción no válida. Por favor, seleccione una opción válida.\")\n",
    "\n",
    "# Generar el reporte\n",
    "print(\"\\nReporte de Movimientos para\", nombre_cuentahabiente)\n",
    "print(\"{:<20} {:<15} {:<15} {:<15}\".format(\"Movimiento\", \"Depósito\", \"Retiro\", \"Saldo\"))\n",
    "print(\"=\"*65)\n",
    "\n",
    "total_deposito = 0\n",
    "total_retiro = 0\n",
    "\n",
    "for movimiento in movimientos:\n",
    "    tipo = movimiento[0]\n",
    "    cantidad = movimiento[1]\n",
    "    saldo = movimiento[2]\n",
    "    \n",
    "    if tipo == \"Depósito\":\n",
    "        total_deposito += cantidad\n",
    "        print(\"{:<20} {:<15} {:<15} {:<15}\".format(tipo, cantidad, \"\", saldo))\n",
    "    elif tipo == \"Retiro\":\n",
    "        total_retiro += cantidad\n",
    "        print(\"{:<20} {:<15} {:<15} {:<15}\".format(tipo, \"\", cantidad, saldo))\n",
    "\n",
    "print(\"-\"*65)\n",
    "print(\"{:<20} {:<15} {:<15} {:<15}\".format(\"Total:\", total_deposito, total_retiro, saldo))\n"
   ]
  }
 ],
 "metadata": {
  "kernelspec": {
   "display_name": "Python 3",
   "language": "python",
   "name": "python3"
  },
  "language_info": {
   "codemirror_mode": {
    "name": "ipython",
    "version": 3
   },
   "file_extension": ".py",
   "mimetype": "text/x-python",
   "name": "python",
   "nbconvert_exporter": "python",
   "pygments_lexer": "ipython3",
   "version": "3.9.13"
  },
  "orig_nbformat": 4
 },
 "nbformat": 4,
 "nbformat_minor": 2
}
