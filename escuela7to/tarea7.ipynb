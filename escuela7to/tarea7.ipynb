{
 "cells": [
  {
   "cell_type": "code",
   "execution_count": 3,
   "metadata": {},
   "outputs": [],
   "source": [
    "#7 ejercicio "
   ]
  },
  {
   "cell_type": "code",
   "execution_count": 4,
   "metadata": {},
   "outputs": [
    {
     "name": "stdout",
     "output_type": "stream",
     "text": [
      "\n",
      "Reporte de Calificaciones\n",
      "Nombre del Estudiante Calificación Final        Resultado           \n",
      "======================================================================\n",
      "cesar                90.0                      Aprobado            \n",
      "andrea               NA                        No Acreditado       \n",
      "======================================================================\n",
      "Total de alumnos:  2\n"
     ]
    }
   ],
   "source": [
    "# Inicializar la lista de estudiantes\n",
    "estudiantes = []\n",
    "\n",
    "# Función para calcular la calificación final\n",
    "def calcular_calificacion_final(calificaciones):\n",
    "    if all(calificacion >= 70 for calificacion in calificaciones):\n",
    "        return sum(calificaciones) / len(calificaciones)\n",
    "    else:\n",
    "        return \"NA\"  # No Acreditado\n",
    "\n",
    "# Leer datos de estudiantes\n",
    "while True:\n",
    "    nombre = input(\"Ingrese el nombre del estudiante (o 'salir' para finalizar): \")\n",
    "    \n",
    "    if nombre.lower() == 'salir':\n",
    "        break\n",
    "    \n",
    "    calificaciones_parciales = []\n",
    "    for i in range(3):\n",
    "        calificacion = float(input(f\"Ingrese la calificación parcial {i+1} para {nombre}: \"))\n",
    "        calificaciones_parciales.append(calificacion)\n",
    "    \n",
    "    calificacion_final = calcular_calificacion_final(calificaciones_parciales)\n",
    "    \n",
    "    estudiantes.append({\"Nombre\": nombre, \"Calificaciones Parciales\": calificaciones_parciales, \"Calificación Final\": calificacion_final})\n",
    "\n",
    "# Generar el reporte\n",
    "print(\"\\nReporte de Calificaciones\")\n",
    "print(\"{:<20} {:<25} {:<20}\".format(\"Nombre del Estudiante\", \"Calificación Final\", \"Resultado\"))\n",
    "print(\"=\"*70)\n",
    "\n",
    "aprobados = 0\n",
    "reprobados = 0\n",
    "\n",
    "for estudiante in estudiantes:\n",
    "    nombre = estudiante[\"Nombre\"]\n",
    "    calificacion_final = estudiante[\"Calificación Final\"]\n",
    "    \n",
    "    if calificacion_final == \"NA\":\n",
    "        resultado = \"No Acreditado\"\n",
    "        reprobados += 1\n",
    "    else:\n",
    "        resultado = \"Aprobado\"\n",
    "        aprobados += 1\n",
    "    \n",
    "    print(\"{:<20} {:<25} {:<20}\".format(nombre, calificacion_final, resultado))\n",
    "\n",
    "print(\"=\"*70)\n",
    "print(\"Total de alumnos: \", len(estudiantes))\n",
    "\n"
   ]
  }
 ],
 "metadata": {
  "kernelspec": {
   "display_name": "Python 3",
   "language": "python",
   "name": "python3"
  },
  "language_info": {
   "codemirror_mode": {
    "name": "ipython",
    "version": 3
   },
   "file_extension": ".py",
   "mimetype": "text/x-python",
   "name": "python",
   "nbconvert_exporter": "python",
   "pygments_lexer": "ipython3",
   "version": "3.9.13"
  },
  "orig_nbformat": 4
 },
 "nbformat": 4,
 "nbformat_minor": 2
}
