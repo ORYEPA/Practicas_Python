{
 "cells": [
  {
   "cell_type": "code",
   "execution_count": 22,
   "metadata": {},
   "outputs": [],
   "source": [
    "import this\n"
   ]
  },
  {
   "cell_type": "code",
   "execution_count": 23,
   "metadata": {},
   "outputs": [
    {
     "ename": "TypeError",
     "evalue": "'set' object is not callable",
     "output_type": "error",
     "traceback": [
      "\u001b[1;31m---------------------------------------------------------------------------\u001b[0m",
      "\u001b[1;31mTypeError\u001b[0m                                 Traceback (most recent call last)",
      "Cell \u001b[1;32mIn[23], line 2\u001b[0m\n\u001b[0;32m      1\u001b[0m set_games\u001b[39m=\u001b[39m{\u001b[39m'\u001b[39m\u001b[39mvalo\u001b[39m\u001b[39m'\u001b[39m,\u001b[39m'\u001b[39m\u001b[39mlol\u001b[39m\u001b[39m'\u001b[39m,\u001b[39m'\u001b[39m\u001b[39mminecraft\u001b[39m\u001b[39m'\u001b[39m,\u001b[39m'\u001b[39m\u001b[39mfall gays\u001b[39m\u001b[39m'\u001b[39m}\n\u001b[1;32m----> 2\u001b[0m \u001b[39mprint\u001b[39;49m(set_games)\n\u001b[0;32m      3\u001b[0m \u001b[39mprint\u001b[39m(\u001b[39mtype\u001b[39m(set_games))\n\u001b[0;32m      4\u001b[0m set_ex\u001b[39m=\u001b[39m{\u001b[39m1\u001b[39m,\u001b[39m'\u001b[39m\u001b[39mfeo\u001b[39m\u001b[39m'\u001b[39m,\u001b[39m12\u001b[39m,\u001b[39mTrue\u001b[39;00m}\n",
      "\u001b[1;31mTypeError\u001b[0m: 'set' object is not callable"
     ]
    }
   ],
   "source": [
    "set_games={'valo','lol','minecraft','fall gays'}\n",
    "print(set_games)\n",
    "print(type(set_games))\n",
    "set_ex={1,'feo',12,True}\n",
    "print(set_ex)\n",
    "set_from_s=set('ayudaaaaaaaaaaaaa')\n",
    "print(set_from_s)\n",
    "numbers=[1,2,4,5,6,12,2,3,1,31,5,1]\n",
    "set_numbers=set(numbers)\n",
    "print=(set_numbers)"
   ]
  },
  {
   "cell_type": "code",
   "execution_count": null,
   "metadata": {},
   "outputs": [],
   "source": []
  }
 ],
 "metadata": {
  "kernelspec": {
   "display_name": "Python 3",
   "language": "python",
   "name": "python3"
  },
  "language_info": {
   "codemirror_mode": {
    "name": "ipython",
    "version": 3
   },
   "file_extension": ".py",
   "mimetype": "text/x-python",
   "name": "python",
   "nbconvert_exporter": "python",
   "pygments_lexer": "ipython3",
   "version": "3.9.13"
  },
  "orig_nbformat": 4
 },
 "nbformat": 4,
 "nbformat_minor": 2
}
