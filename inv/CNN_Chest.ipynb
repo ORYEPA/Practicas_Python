{
 "cells": [
  {
   "attachments": {},
   "cell_type": "markdown",
   "metadata": {},
   "source": [
    "# importe de modelo"
   ]
  },
  {
   "cell_type": "code",
   "execution_count": null,
   "metadata": {
    "id": "ZNLpKIkGoRY-"
   },
   "outputs": [],
   "source": [
    "from tensorflow.keras.applications import MobileNetV2"
   ]
  },
  {
   "cell_type": "code",
   "execution_count": null,
   "metadata": {
    "id": "en8zknPYgW0Y"
   },
   "outputs": [],
   "source": [
    "import tensorflow as tf\n",
    "from tensorflow.keras.layers import GlobalAveragePooling2D,Dense,Dropout, Activation, Flatten\n",
    "from tensorflow.keras.layers import Conv2D, MaxPool2D, ZeroPadding2D\n",
    "from tensorflow.keras.layers import BatchNormalization\n",
    "from tensorflow.keras.models import Model, Sequential\n",
    "from tensorflow.keras.preprocessing import image as image_ops\n",
    "import matplotlib.pyplot as plt\n",
    "import numpy as np\n",
    "import os\n",
    "\n"
   ]
  },
  {
   "cell_type": "code",
   "execution_count": null,
   "metadata": {
    "colab": {
     "base_uri": "https://localhost:8080/"
    },
    "id": "Kb9HGF8YcVxq",
    "outputId": "504feee3-3b8a-49ec-f0b5-d33c853b623a"
   },
   "outputs": [],
   "source": [
    "img_width,img_height=224,224\n",
    "\n",
    "model=MobileNetV2(weights='imagenet',\n",
    "                include_top=False,\n",
    "                input_shape=(img_height,img_width,3)\n",
    "                )"
   ]
  },
  {
   "cell_type": "code",
   "execution_count": null,
   "metadata": {
    "id": "ySwJOJFseoF1"
   },
   "outputs": [],
   "source": [
    "def add_layer_at_bottom(bottom_model, num_classes):\n",
    "    top_model = bottom_model.output\n",
    "    top_model = GlobalAveragePooling2D()(top_model)\n",
    "    top_model = Dense(1024,activation='relu')(top_model)\n",
    "    top_model = Dense(1024,activation='relu')(top_model)\n",
    "    top_model = Dense(1024,activation='relu')(top_model)\n",
    "    top_model = Dense(1024,activation='relu')(top_model)\n",
    "    top_model = Dense(1024,activation='relu')(top_model)\n",
    "    top_model = Dense(512,activation='relu')(top_model)\n",
    "    top_model = Dense(num_classes,activation='softmax')(top_model)\n",
    "    return top_model"
   ]
  },
  {
   "attachments": {},
   "cell_type": "markdown",
   "metadata": {},
   "source": [
    "# Aqui se cargan los datos"
   ]
  },
  {
   "cell_type": "code",
   "execution_count": null,
   "metadata": {
    "id": "5vLxGPeZi9_N"
   },
   "outputs": [],
   "source": [
    "from tensorflow.keras.preprocessing.image import ImageDataGenerator"
   ]
  },
  {
   "cell_type": "code",
   "execution_count": null,
   "metadata": {
    "id": "Jj2WbRiXjJMY"
   },
   "outputs": [],
   "source": [
    "directorio_training='D:/chestData2/train'\n",
    "val_data_dir='D:/chestData2/test'\n",
    "os.listdir(directorio_training)\n"
   ]
  },
  {
   "cell_type": "code",
   "execution_count": null,
   "metadata": {
    "id": "e8tlmrapjQ9J"
   },
   "outputs": [],
   "source": [
    "train_datagen=ImageDataGenerator(rescale=1./255,\n",
    "                                \n",
    "                                 \n",
    "                                 horizontal_flip=True,\n",
    "                                 fill_mode='nearest')\n",
    "\n",
    "val_datagen=ImageDataGenerator(rescale=1./255)"
   ]
  },
  {
   "cell_type": "code",
   "execution_count": null,
   "metadata": {
    "id": "e7dTr2D2kSFg"
   },
   "outputs": [],
   "source": [
    "batch_size=32"
   ]
  },
  {
   "cell_type": "code",
   "execution_count": null,
   "metadata": {
    "colab": {
     "base_uri": "https://localhost:8080/"
    },
    "id": "7uw2lEhKkWLO",
    "outputId": "2880c32d-c6a6-44a4-c12b-82b3289892c0"
   },
   "outputs": [],
   "source": [
    "entrenador=train_datagen.flow_from_directory(directorio_training,\n",
    "                                                  target_size=(img_height,img_width),\n",
    "                                                  batch_size=batch_size,\n",
    "                                                  class_mode='categorical')\n",
    "\n",
    "validador=val_datagen.flow_from_directory(val_data_dir,\n",
    "                                              target_size=(img_height,img_width),\n",
    "                                              batch_size=batch_size,\n",
    "                                              class_mode='categorical')\n",
    "test_images,test_labels= next(validador)\n"
   ]
  },
  {
   "cell_type": "code",
   "execution_count": null,
   "metadata": {},
   "outputs": [],
   "source": [
    "L = 4\n",
    "W = 4\n",
    "imagen_entrenamiento,labels_entrenamiento= next(entrenador)\n",
    "fig, axes = plt.subplots(L, W, figsize = (12, 12))\n",
    "axes = axes.ravel()\n",
    "label_names = {0 : 'Covid-19', 1 : 'Normal' , 2: 'Viral Pneumonia'}\n",
    "\n",
    "for i in np.arange(0, L*W):\n",
    "    axes[i].imshow(imagen_entrenamiento[i])\n",
    "    axes[i].set_title(label_names[np.argmax(labels_entrenamiento[i])])\n",
    "    \n",
    "    plt.subplots_adjust(wspace = 0.5)   "
   ]
  },
  {
   "cell_type": "code",
   "execution_count": null,
   "metadata": {
    "colab": {
     "base_uri": "https://localhost:8080/"
    },
    "id": "cQTr5HHJlLzy",
    "outputId": "29a31fb5-53d9-4870-9f37-78ff31a02901"
   },
   "outputs": [],
   "source": [
    "train_class_names = set()\n",
    "num_train_samples=0\n",
    "for i in entrenador.filenames:\n",
    "    train_class_names.add(i.split('/')[0])\n",
    "    num_train_samples+=1\n",
    "#print(num_train_samples)\n",
    "#train_class_names"
   ]
  },
  {
   "cell_type": "code",
   "execution_count": null,
   "metadata": {
    "colab": {
     "base_uri": "https://localhost:8080/"
    },
    "id": "JZmK9sYTto9r",
    "outputId": "39a7136d-76d5-4aa3-d151-85ec1d5834d2"
   },
   "outputs": [],
   "source": [
    "val_class_names = set()\n",
    "num_val_samples=0\n",
    "for i in validador.filenames:\n",
    "    val_class_names.add(i.split('/')[0])\n",
    "    num_val_samples+=1\n",
    "print(num_val_samples)\n",
    "#val_class_names"
   ]
  },
  {
   "cell_type": "code",
   "execution_count": null,
   "metadata": {
    "colab": {
     "base_uri": "https://localhost:8080/"
    },
    "id": "m9rNasiggTs-",
    "outputId": "cbedced1-f860-44be-e98b-1aa026ba2f08"
   },
   "outputs": [],
   "source": [
    "num_classes=len(entrenador.class_indices)\n",
    "print(num_classes)\n",
    "FC_head=add_layer_at_bottom(model,\n",
    "                            num_classes)\n",
    "\n",
    "main_model=Model(inputs=model.input,\n",
    "                 outputs=FC_head)\n",
    "\n",
    "main_model.summary()"
   ]
  },
  {
   "attachments": {},
   "cell_type": "markdown",
   "metadata": {},
   "source": [
    "# Training"
   ]
  },
  {
   "cell_type": "code",
   "execution_count": null,
   "metadata": {
    "id": "X4bO4y0Bl9cF"
   },
   "outputs": [],
   "source": [
    "from tensorflow.keras.optimizers import RMSprop\n",
    "from tensorflow.keras.callbacks import ModelCheckpoint, EarlyStopping"
   ]
  },
  {
   "cell_type": "code",
   "execution_count": null,
   "metadata": {
    "colab": {
     "background_save": true,
     "base_uri": "https://localhost:8080/"
    },
    "id": "4b5PH9iUuQBs",
    "outputId": "89d99e7a-097f-45c3-ce7e-5bf6cb539c7b"
   },
   "outputs": [],
   "source": [
    "\n",
    "checkpoint = ModelCheckpoint(\"enfermedad_dec.h6\",\n",
    "                             monitor='val_loss',\n",
    "                             mode='min',\n",
    "                             save_best_only=True,verbose=1)\n",
    "\n",
    "earlystop = EarlyStopping(monitor='val_loss',\n",
    "                          min_delta=0,\n",
    "                          patience=20,\n",
    "                          verbose=1,\n",
    "                          restore_best_weights=True)\n",
    "\n",
    "callbacks=[checkpoint,earlystop]\n",
    "\n",
    "main_model.compile(loss='categorical_crossentropy',\n",
    "                   optimizer=RMSprop(learning_rate=0.0015),\n",
    "                   metrics=['accuracy'])\n",
    "\n",
    "epochs=50\n",
    "\n",
    "batch_size = 32\n",
    "\n",
    "history = main_model.fit(entrenador,\n",
    "                         steps_per_epoch=num_train_samples//batch_size,\n",
    "                         epochs=epochs,\n",
    "                         callbacks=callbacks,\n",
    "                         validation_data=validador,\n",
    "                         validation_steps=num_val_samples//batch_size)\n",
    "\n"
   ]
  },
  {
   "cell_type": "code",
   "execution_count": null,
   "metadata": {},
   "outputs": [],
   "source": [
    "# plot accuracy\n",
    "plt.plot(history.history['accuracy'])\n",
    "plt.plot(history.history['val_accuracy'])\n",
    "plt.title('Model accuracy')\n",
    "plt.ylabel('Accuracy')\n",
    "plt.xlabel('Epoch')\n",
    "plt.legend(['Train', 'Validation'], loc='upper left')\n",
    "plt.show()\n",
    "\n",
    "# plot loss\n",
    "plt.plot(history.history['loss'])\n",
    "plt.plot(history.history['val_loss'])\n",
    "plt.title('Model loss')\n",
    "plt.ylabel('Loss')\n",
    "plt.xlabel('Epoch')\n",
    "plt.legend(['Train', 'Validation'], loc='upper left')\n",
    "plt.show()\n"
   ]
  },
  {
   "cell_type": "code",
   "execution_count": null,
   "metadata": {},
   "outputs": [],
   "source": [
    "# import tkinter as tk\n",
    "# from tkinter import filedialog\n",
    "# import cv2\n",
    "# import numpy as np\n",
    "# from matplotlib import pyplot as plt\n",
    "\n",
    "# # Aquí se debería importar y cargar el modelo entrenado 'main_model'\n",
    "# def abrir_archivo():\n",
    "#     file = filedialog.askopenfilename(initialdir=\"/\", title=\"Seleccione archivo\")\n",
    "#     if file:\n",
    "#         print(\"Archivo seleccionado: \", file)\n",
    "#         out=['Covid', 'Normal', 'Viral Pneumonia']\n",
    "#         img=cv2.imread(file)\n",
    "#         img=cv2.cvtColor(img,cv2.COLOR_BGR2RGB)\n",
    "#         img=cv2.resize(img,(224,224))\n",
    "#         img=img/255.\n",
    "#         mostrar_imagen_con_titulo(img, out)\n",
    "\n",
    "# def mostrar_imagen_con_titulo(img, out):\n",
    "#     plt.imshow(img)\n",
    "#     img=img.reshape(1,224,224,3)\n",
    "#     res=main_model.predict(img)\n",
    "#     print(res)\n",
    "#     plt.title(out[np.argmax(res)])\n",
    "#     plt.show()\n",
    "\n",
    "# app = tk.Tk()\n",
    "# app.geometry(\"400x300\")\n",
    "# app.title(\"Selector de archivos\")\n",
    "\n",
    "# button = tk.Button(app, text=\"Abrir archivo\", command=abrir_archivo)\n",
    "# button.pack(pady=20)\n",
    "\n",
    "# app.mainloop()"
   ]
  },
  {
   "cell_type": "code",
   "execution_count": null,
   "metadata": {},
   "outputs": [],
   "source": [
    "# import tkinter as tk\n",
    "# from tkinter import filedialog\n",
    "# import os\n",
    "# import cv2\n",
    "# import random\n",
    "# import string\n",
    "# import matplotlib.pyplot as plt\n",
    "# import numpy as np\n",
    "\n",
    "# out = ['Covid', 'Normal', 'Viral Pneumonia']\n",
    "\n",
    "# def cambiar_nombres_carpeta_rnd(carpeta_ruta):\n",
    "#     lista_archivos = os.listdir(carpeta_ruta)\n",
    "#     print(carpeta_ruta)\n",
    "\n",
    "#     for nombre_archivo in lista_archivos:\n",
    "#         ruta_completa_antigua = os.path.join(carpeta_ruta, nombre_archivo)\n",
    "\n",
    "#         if os.path.isfile(ruta_completa_antigua):\n",
    "#             extension = os.path.splitext(nombre_archivo)[1]\n",
    "#             nuevo_nombre = ''.join(random.choices(string.ascii_lowercase, k=10)) + extension\n",
    "#             ruta_completa_nueva = os.path.join(carpeta_ruta, nuevo_nombre)\n",
    "\n",
    "#             try:\n",
    "#                 os.rename(ruta_completa_antigua, ruta_completa_nueva)\n",
    "#                 print(f\"Archivo {nombre_archivo} renombrado a {nuevo_nombre}\")\n",
    "#             except Exception as e:\n",
    "#                 print(f\"No se pudo cambiar el nombre del archivo {nombre_archivo}. Error: {e}\")\n",
    "\n",
    "# def seleccionar_carpeta_y_clasificar():\n",
    "#     carpeta_ruta = filedialog.askdirectory()\n",
    "#     etiqueta_ruta.config(text=f\"Ruta de la carpeta seleccionada: {carpeta_ruta}\")\n",
    "\n",
    "#     for imagen_nombre in os.listdir(carpeta_ruta):\n",
    "#         if imagen_nombre.endswith(('.jpg', '.jpeg', '.png')):\n",
    "#             imagen_ruta = os.path.join(carpeta_ruta, imagen_nombre)\n",
    "#             img = cv2.imread(imagen_ruta)\n",
    "#             img = cv2.cvtColor(img, cv2.COLOR_BGR2RGB)\n",
    "#             img = cv2.resize(img, (224, 224))\n",
    "#             img = img / 255.\n",
    "#             plt.imshow(img)\n",
    "#             img = img.reshape(1, 224, 224, 3)\n",
    "#             # Aquí deberías tener definido el modelo preentrenado como main_model\n",
    "#             res = main_model.predict(img)\n",
    "#             print(res)\n",
    "#             print(out[np.argmax(res)])\n",
    "            \n",
    "            \n",
    "            \n",
    "#             plt.title(out[np.argmax(res)])\n",
    "#             plt.show()\n",
    "\n",
    "# # Configuración de la ventana\n",
    "# ventana = tk.Tk()\n",
    "# ventana.title(\"Selector de Carpeta e Impresión de Imágenes\")\n",
    "\n",
    "# # Botón para seleccionar la carpeta y clasificar imágenes\n",
    "# boton_seleccionar = tk.Button(ventana, text=\"Seleccionar Carpeta e Imprimir Imágenes\", command=seleccionar_carpeta_y_clasificar)\n",
    "# boton_seleccionar.pack(pady=20)\n",
    "\n",
    "# # Etiqueta para mostrar la ruta seleccionada\n",
    "# etiqueta_ruta = tk.Label(ventana, text=\"Ruta de la carpeta seleccionada: \")\n",
    "# etiqueta_ruta.pack(pady=10)\n",
    "\n",
    "# # Ejecutar la ventana\n",
    "# ventana.mainloop()\n"
   ]
  },
  {
   "cell_type": "code",
   "execution_count": null,
   "metadata": {},
   "outputs": [],
   "source": [
    "# import tkinter as tk\n",
    "# from tkinter import filedialog\n",
    "# import os\n",
    "# import cv2\n",
    "# import numpy as np\n",
    "# from tensorflow.keras.models import load_model\n",
    "# import matplotlib.pyplot as plt\n",
    "\n",
    "\n",
    "\n",
    "# # Función para obtener y mostrar las imágenes\n",
    "# def mostrar_imagenes_carpeta():\n",
    "#     carpeta_ruta = filedialog.askdirectory()\n",
    "#     etiqueta_ruta.config(text=f\"Ruta de la carpeta seleccionada: {carpeta_ruta}\")\n",
    "\n",
    "#     # Obtener las imágenes y mostrarlas\n",
    "#     fig = plt.figure(figsize=(10, 10))\n",
    "\n",
    "#     for i, file in enumerate(os.listdir(carpeta_ruta)[:9]):\n",
    "#         if file.endswith(\".jpeg\") or file.endswith(\".jpg\") or file.endswith(\".png\"):\n",
    "#             img_path = os.path.join(carpeta_ruta, file)\n",
    "#             img = cv2.imread(img_path)\n",
    "#             img = cv2.cvtColor(img, cv2.COLOR_BGR2RGB)\n",
    "#             img = cv2.resize(img, (224, 224))\n",
    "#             img = img / 255.\n",
    "#             img = img.reshape(1, 224, 224, 3)\n",
    "#             res = main_model.predict(img)\n",
    "#             prediction = out[np.argmax(res)]\n",
    "\n",
    "#             ax = fig.add_subplot(3, 3, i + 1)\n",
    "#             ax.imshow(img[0])\n",
    "#             ax.set_title(f'Prediction: {prediction}')\n",
    "#             ax.axis('off')\n",
    "\n",
    "#     plt.show()\n",
    "\n",
    "# # Configuración de la ventana\n",
    "# ventana = tk.Tk()\n",
    "# ventana.title(\"Selector de Carpeta y Visualizador de Imágenes\")\n",
    "\n",
    "# # Botón para seleccionar la carpeta y mostrar imágenes\n",
    "# boton_seleccionar = tk.Button(ventana, text=\"Seleccionar Carpeta y Mostrar Imágenes\", command=mostrar_imagenes_carpeta)\n",
    "# boton_seleccionar.pack(pady=20)\n",
    "\n",
    "# # Etiqueta para mostrar la ruta seleccionada\n",
    "# etiqueta_ruta = tk.Label(ventana, text=\"Ruta de la carpeta seleccionada: \")\n",
    "# etiqueta_ruta.pack(pady=10)\n",
    "\n",
    "# # Ejecutar la ventana\n",
    "# ventana.mainloop()\n"
   ]
  },
  {
   "cell_type": "code",
   "execution_count": null,
   "metadata": {},
   "outputs": [],
   "source": [
    "import tkinter as tk\n",
    "from tkinter import filedialog\n",
    "import os\n",
    "import cv2\n",
    "import numpy as np\n",
    "from tensorflow.keras.models import load_model\n",
    "from PIL import Image, ImageTk\n",
    "\n",
    "# Carga el modelo (asegúrate de reemplazar 'ruta_al_modelo' con la ruta real del modelo)\n",
    "#main_model = load_model('ruta_al_modelo')\n",
    "out=['Covid', 'Normal', 'Viral Pneumonia']\n",
    "\n",
    "# Configuración de la ventana de tkinter\n",
    "ventana = tk.Tk()\n",
    "ventana.title(\"Selector de Carpeta y Visualizador de Imágenes\")\n",
    "ventana.geometry(\"800x800\")\n",
    "\n",
    "# Función para obtener y mostrar las imágenes\n",
    "def mostrar_imagenes_carpeta():\n",
    "    carpeta_ruta = filedialog.askdirectory()\n",
    "    etiqueta_ruta.config(text=f\"Ruta de la carpeta seleccionada: {carpeta_ruta}\")\n",
    "\n",
    "    row_counter = 1\n",
    "    column_counter = 0\n",
    "\n",
    "    for file in os.listdir(carpeta_ruta)[:9]:\n",
    "        if file.endswith(\".jpeg\") or file.endswith(\".jpg\") or file.endswith(\".png\"):\n",
    "            img_path = os.path.join(carpeta_ruta, file)\n",
    "            img = cv2.imread(img_path)\n",
    "            img = cv2.cvtColor(img, cv2.COLOR_BGR2RGB)\n",
    "            img = cv2.resize(img, (224, 224))\n",
    "            \n",
    "            \n",
    "            imgPre = img / 255.\n",
    "            imgPre = imgPre.reshape(1, 224, 224, 3)\n",
    "            res = main_model.predict(imgPre)\n",
    "            prediction = out[np.argmax(res)]\n",
    "            \n",
    "            \n",
    "            img = Image.fromarray(img)\n",
    "            img = ImageTk.PhotoImage(img)\n",
    "            panel = tk.Label(ventana, image=img)\n",
    "            panel.image = img\n",
    "            panel.grid(row=row_counter, column=column_counter, padx=10, pady=10)\n",
    "\n",
    "            \n",
    "\n",
    "            etiqueta_prediccion = tk.Label(ventana, text=f\"Prediction: {prediction}\")\n",
    "            etiqueta_prediccion.grid(row=row_counter + 1, column=column_counter, padx=10)\n",
    "\n",
    "            column_counter += 1\n",
    "            if column_counter > 2:\n",
    "                column_counter = 0\n",
    "                row_counter += 2\n",
    "\n",
    "# Etiqueta para mostrar la ruta seleccionada\n",
    "etiqueta_ruta = tk.Label(ventana, text=\"Ruta de la carpeta seleccionada: \")\n",
    "etiqueta_ruta.grid(row=0, column=0, padx=10, pady=10)\n",
    "\n",
    "# Botón para seleccionar la carpeta y mostrar imágenes\n",
    "boton_seleccionar = tk.Button(ventana, text=\"Seleccionar Carpeta y Mostrar Imágenes\", command=mostrar_imagenes_carpeta)\n",
    "boton_seleccionar.grid(row=1, column=0, padx=10, pady=10)\n",
    "\n",
    "# Ejecutar la ventana\n",
    "ventana.mainloop()\n"
   ]
  }
 ],
 "metadata": {
  "accelerator": "GPU",
  "colab": {
   "collapsed_sections": [],
   "provenance": []
  },
  "kernelspec": {
   "display_name": "Python 3 (ipykernel)",
   "language": "python",
   "name": "python3"
  },
  "language_info": {
   "codemirror_mode": {
    "name": "ipython",
    "version": 3
   },
   "file_extension": ".py",
   "mimetype": "text/x-python",
   "name": "python",
   "nbconvert_exporter": "python",
   "pygments_lexer": "ipython3",
   "version": "3.9.13"
  }
 },
 "nbformat": 4,
 "nbformat_minor": 1
}
