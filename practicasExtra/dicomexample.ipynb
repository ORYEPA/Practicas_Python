{
 "cells": [
  {
   "cell_type": "code",
   "execution_count": 6,
   "metadata": {},
   "outputs": [],
   "source": [
    "import pydicom\n",
    "import numpy as np\n",
    "import matplotlib.pyplot as plt"
   ]
  },
  {
   "cell_type": "code",
   "execution_count": 7,
   "metadata": {},
   "outputs": [
    {
     "ename": "RuntimeError",
     "evalue": "The following handlers are available to decode the pixel data however they are missing required dependencies: GDCM (req. GDCM), pylibjpeg (req. )",
     "output_type": "error",
     "traceback": [
      "\u001b[1;31m---------------------------------------------------------------------------\u001b[0m",
      "\u001b[1;31mRuntimeError\u001b[0m                              Traceback (most recent call last)",
      "Cell \u001b[1;32mIn[7], line 4\u001b[0m\n\u001b[0;32m      2\u001b[0m dicom_file\u001b[39m=\u001b[39mpydicom\u001b[39m.\u001b[39mdcmread(\u001b[39m'\u001b[39m\u001b[39mimage-00006.dcm\u001b[39m\u001b[39m'\u001b[39m)\n\u001b[0;32m      3\u001b[0m \u001b[39m#obten la matriz de pixeles del archivo\u001b[39;00m\n\u001b[1;32m----> 4\u001b[0m pixel_array\u001b[39m=\u001b[39mdicom_file\u001b[39m.\u001b[39;49mpixel_array\n\u001b[0;32m      5\u001b[0m \u001b[39m#unidades housfield\u001b[39;00m\n\u001b[0;32m      6\u001b[0m intercept\u001b[39m=\u001b[39m dicom_file\u001b[39m.\u001b[39mget(\u001b[39m'\u001b[39m\u001b[39mRescaleIntercept\u001b[39m\u001b[39m'\u001b[39m,\u001b[39m0.0\u001b[39m)\n",
      "File \u001b[1;32mc:\\Program Files\\Python39\\lib\\site-packages\\pydicom\\dataset.py:1955\u001b[0m, in \u001b[0;36mDataset.pixel_array\u001b[1;34m(self)\u001b[0m\n\u001b[0;32m   1940\u001b[0m \u001b[39m@property\u001b[39m\n\u001b[0;32m   1941\u001b[0m \u001b[39mdef\u001b[39;00m \u001b[39mpixel_array\u001b[39m(\u001b[39mself\u001b[39m) \u001b[39m-\u001b[39m\u001b[39m>\u001b[39m \u001b[39m\"\u001b[39m\u001b[39mnumpy.ndarray\u001b[39m\u001b[39m\"\u001b[39m:\n\u001b[0;32m   1942\u001b[0m \u001b[39m    \u001b[39m\u001b[39m\"\"\"Return the pixel data as a :class:`numpy.ndarray`.\u001b[39;00m\n\u001b[0;32m   1943\u001b[0m \n\u001b[0;32m   1944\u001b[0m \u001b[39m    .. versionchanged:: 1.4\u001b[39;00m\n\u001b[1;32m   (...)\u001b[0m\n\u001b[0;32m   1953\u001b[0m \u001b[39m        :class:`numpy.ndarray`.\u001b[39;00m\n\u001b[0;32m   1954\u001b[0m \u001b[39m    \"\"\"\u001b[39;00m\n\u001b[1;32m-> 1955\u001b[0m     \u001b[39mself\u001b[39;49m\u001b[39m.\u001b[39;49mconvert_pixel_data()\n\u001b[0;32m   1956\u001b[0m     \u001b[39mreturn\u001b[39;00m cast(\u001b[39m\"\u001b[39m\u001b[39mnumpy.ndarray\u001b[39m\u001b[39m\"\u001b[39m, \u001b[39mself\u001b[39m\u001b[39m.\u001b[39m_pixel_array)\n",
      "File \u001b[1;32mc:\\Program Files\\Python39\\lib\\site-packages\\pydicom\\dataset.py:1512\u001b[0m, in \u001b[0;36mDataset.convert_pixel_data\u001b[1;34m(self, handler_name)\u001b[0m\n\u001b[0;32m   1510\u001b[0m     \u001b[39mself\u001b[39m\u001b[39m.\u001b[39m_convert_pixel_data_using_handler(handler_name)\n\u001b[0;32m   1511\u001b[0m \u001b[39melse\u001b[39;00m:\n\u001b[1;32m-> 1512\u001b[0m     \u001b[39mself\u001b[39;49m\u001b[39m.\u001b[39;49m_convert_pixel_data_without_handler()\n",
      "File \u001b[1;32mc:\\Program Files\\Python39\\lib\\site-packages\\pydicom\\dataset.py:1599\u001b[0m, in \u001b[0;36mDataset._convert_pixel_data_without_handler\u001b[1;34m(self)\u001b[0m\n\u001b[0;32m   1593\u001b[0m         names \u001b[39m=\u001b[39m [hh_deps[name][\u001b[39m1\u001b[39m] \u001b[39mfor\u001b[39;00m name \u001b[39min\u001b[39;00m missing]\n\u001b[0;32m   1594\u001b[0m         pkg_msg\u001b[39m.\u001b[39mappend(\n\u001b[0;32m   1595\u001b[0m             \u001b[39mf\u001b[39m\u001b[39m\"\u001b[39m\u001b[39m{\u001b[39;00mhh\u001b[39m.\u001b[39mHANDLER_NAME\u001b[39m}\u001b[39;00m\u001b[39m \u001b[39m\u001b[39m\"\u001b[39m\n\u001b[0;32m   1596\u001b[0m             \u001b[39mf\u001b[39m\u001b[39m\"\u001b[39m\u001b[39m(req. \u001b[39m\u001b[39m{\u001b[39;00m\u001b[39m'\u001b[39m\u001b[39m, \u001b[39m\u001b[39m'\u001b[39m\u001b[39m.\u001b[39mjoin(names)\u001b[39m}\u001b[39;00m\u001b[39m)\u001b[39m\u001b[39m\"\u001b[39m\n\u001b[0;32m   1597\u001b[0m         )\n\u001b[1;32m-> 1599\u001b[0m     \u001b[39mraise\u001b[39;00m \u001b[39mRuntimeError\u001b[39;00m(msg \u001b[39m+\u001b[39m \u001b[39m'\u001b[39m\u001b[39m, \u001b[39m\u001b[39m'\u001b[39m\u001b[39m.\u001b[39mjoin(pkg_msg))\n\u001b[0;32m   1601\u001b[0m last_exception \u001b[39m=\u001b[39m \u001b[39mNone\u001b[39;00m\n\u001b[0;32m   1602\u001b[0m \u001b[39mfor\u001b[39;00m handler \u001b[39min\u001b[39;00m available_handlers:\n",
      "\u001b[1;31mRuntimeError\u001b[0m: The following handlers are available to decode the pixel data however they are missing required dependencies: GDCM (req. GDCM), pylibjpeg (req. )"
     ]
    }
   ],
   "source": [
    "#carga archivo\n",
    "dicom_file=pydicom.dcmread('image-00006.dcm')\n",
    "#obten la matriz de pixeles del archivo\n",
    "pixel_array=dicom_file.pixel_array\n",
    "#unidades housfield\n",
    "intercept= dicom_file.get('RescaleIntercept',0.0)\n",
    "\n",
    "slope=dicom_file.get('RescaleSlope',1.00)\n",
    "\n",
    "hu_array=slope*pixel_array.astype(np.float64)+ intercept\n",
    "\n",
    "#umbrales\n",
    "air_hu_min=-1000\n",
    "air_hu_max=-700\n",
    "water_hu_min=0\n",
    "water_hu_max=100\n",
    "bone_hu_min=700\n",
    "bone_hu_max=3000"
   ]
  },
  {
   "cell_type": "code",
   "execution_count": null,
   "metadata": {},
   "outputs": [],
   "source": [
    " #segmentar\n",
    "air_mask=np.logical_and(hu_array > air_hu_min,hu_array<air_hu_max)\n",
    "\n",
    "water_mask=np.logical_and(hu_array > water_hu_min,hu_array < water_hu_max)\n",
    "bone_mask=np.logical_and(hu_array > bone_hu_min,hu_array < bone_hu_max)"
   ]
  },
  {
   "cell_type": "code",
   "execution_count": null,
   "metadata": {},
   "outputs": [],
   "source": [
    "plt.subplot(1,3,1)\n",
    "plt.imshow(pixel_array,cmap='gray')\n",
    "plt.title('Imagen origianl')\n",
    "plt.axis('off')\n",
    "\n",
    "plt.subplot(1,3,2)\n",
    "plt.imshow(water_mask,cmap='gray')\n",
    "plt.title('Imagen  agua')\n",
    "plt.axis('off')\n",
    "\n",
    "\n",
    "plt.subplot(1,3,3)\n",
    "plt.imshow(bone_mask,cmap='gray')\n",
    "plt.title('Imagen  hueso')\n",
    "plt.axis('off')\n",
    "\n",
    "\n",
    "plt.show()"
   ]
  }
 ],
 "metadata": {
  "kernelspec": {
   "display_name": "Python 3",
   "language": "python",
   "name": "python3"
  },
  "language_info": {
   "codemirror_mode": {
    "name": "ipython",
    "version": 3
   },
   "file_extension": ".py",
   "mimetype": "text/x-python",
   "name": "python",
   "nbconvert_exporter": "python",
   "pygments_lexer": "ipython3",
   "version": "3.9.13"
  },
  "orig_nbformat": 4
 },
 "nbformat": 4,
 "nbformat_minor": 2
}
