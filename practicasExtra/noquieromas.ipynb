{
 "cells": [
  {
   "cell_type": "code",
   "execution_count": 18,
   "metadata": {},
   "outputs": [],
   "source": [
    "import tkinter as tk\n",
    "from tkinter import filedialog\n",
    "import numpy as np \n",
    "from matplotlib import pyplot as plt \n",
    "from PIL import Image\n",
    "import cv2\n",
    "from skimage import measure\n",
    "from matplotlib.gridspec import GridSpec\n"
   ]
  },
  {
   "cell_type": "code",
   "execution_count": 19,
   "metadata": {},
   "outputs": [],
   "source": [
    "def procesado_principal(file):\n",
    "    img=Image.open(\"animales.png\").convert('L')\n",
    "    n, m = np.shape(img)\n",
    "    labeled = np.zeros_like(img)\n",
    "    next_label = 1\n",
    "    labels = {}\n",
    "    for y in range(n):\n",
    "        for x in range(m):\n",
    "            if img[y][x] > 0:\n",
    "                neighbors = []\n",
    "                if x > 0 and labeled[y][x-1] > 0:\n",
    "                    neighbors.append(labeled[y][x-1])\n",
    "                if x > 0 and y > 0 and labeled[y-1][x-1] > 0:\n",
    "                    neighbors.append(labeled[y-1][x-1])\n",
    "                if y > 0 and labeled[y-1][x] > 0:\n",
    "                    neighbors.append(labeled[y-1][x])\n",
    "                if x < img.shape[1]-1 and y > 0 and labeled[y-1][x+1] > 0:\n",
    "                    neighbors.append(labeled[y-1][x+1])\n",
    "                if len(neighbors) == 0:\n",
    "                    labeled[y][x] = next_label\n",
    "                    labels[next_label] = [(x,y)]\n",
    "                    next_label += 1\n",
    "                else:\n",
    "                    neighbors.sort()\n",
    "                    labeled[y][x] = neighbors[0]\n",
    "                    labels[neighbors[0]].append((x,y))\n",
    "                    for label in neighbors[1:]:\n",
    "                        for pt in labels[label]:\n",
    "                            labeled[pt[1]][pt[0]] = neighbors[0]\n",
    "                        labels[neighbors[0]] += labels[label]\n",
    "                        del labels[label]\n",
    "    # Plotting the image.\n",
    "    contours, hierarchy = cv2.findContours(labeled.astype(np.uint8), cv2.RETR_EXTERNAL, cv2.CHAIN_APPROX_SIMPLE)\n",
    "    img_contours = cv2.cvtColor(img, cv2.COLOR_GRAY2RGB)\n",
    "    cv2.drawContours(img_contours, contours, -1, (0,255,0), 2)\n",
    "    plt.imshow(img_contours)\n",
    "    plt.show()\n"
   ]
  },
  {
   "cell_type": "code",
   "execution_count": 20,
   "metadata": {},
   "outputs": [
    {
     "name": "stdout",
     "output_type": "stream",
     "text": [
      "C:/Users/anele/OneDrive/Escritorio/PROYECTOMATLAB/avion.png\n"
     ]
    },
    {
     "name": "stderr",
     "output_type": "stream",
     "text": [
      "Exception in Tkinter callback\n",
      "Traceback (most recent call last):\n",
      "  File \"c:\\Program Files\\Python39\\lib\\tkinter\\__init__.py\", line 1885, in __call__\n",
      "    return self.func(*args)\n",
      "  File \"C:\\Users\\anele\\AppData\\Local\\Temp\\ipykernel_15084\\1017081299.py\", line 8, in open_file_dialog\n",
      "    procesado_principal(file)\n",
      "  File \"C:\\Users\\anele\\AppData\\Local\\Temp\\ipykernel_15084\\3250136438.py\", line 9, in procesado_principal\n",
      "    if img[y][x] > 0:\n",
      "TypeError: 'Image' object is not subscriptable\n"
     ]
    }
   ],
   "source": [
    "def open_file_dialog():\n",
    "    # \"\"\"\n",
    "    # It opens a file dialog and returns the path of the file selected.\n",
    "    # \"\"\"\n",
    "    file_path = filedialog.askopenfilename()\n",
    "    print(file_path)\n",
    "    file=str(file_path)\n",
    "    procesado_principal(file)\n",
    "    plt.show(file,cmap='gray')\n",
    "\n",
    "\n",
    "\n",
    "root = tk.Tk()\n",
    "button = tk.Button(root, text=\"Open File\", command=open_file_dialog)\n",
    "button.pack()\n",
    "root.mainloop()"
   ]
  }
 ],
 "metadata": {
  "kernelspec": {
   "display_name": "Python 3",
   "language": "python",
   "name": "python3"
  },
  "language_info": {
   "codemirror_mode": {
    "name": "ipython",
    "version": 3
   },
   "file_extension": ".py",
   "mimetype": "text/x-python",
   "name": "python",
   "nbconvert_exporter": "python",
   "pygments_lexer": "ipython3",
   "version": "3.9.0"
  },
  "orig_nbformat": 4,
  "vscode": {
   "interpreter": {
    "hash": "11938c6bc6919ae2720b4d5011047913343b08a43b18698fd82dedb0d4417594"
   }
  }
 },
 "nbformat": 4,
 "nbformat_minor": 2
}
