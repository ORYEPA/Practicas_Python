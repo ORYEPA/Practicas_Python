{
 "cells": [
  {
   "cell_type": "code",
   "execution_count": 25,
   "metadata": {},
   "outputs": [],
   "source": [
    "import mediapipe as mp\n",
    "import matplotlib.pyplot as plt \n",
    "import numpy as np\n",
    "from numpy import arccos, array\n",
    "from numpy.linalg import norm\n",
    "import math\n",
    "\n",
    "import cv2"
   ]
  },
  {
   "cell_type": "code",
   "execution_count": 26,
   "metadata": {},
   "outputs": [],
   "source": [
    "mp_drawing= mp.solutions.drawing_utils\n",
    "mp_pose= mp.solutions.pose\n",
    "\n",
    "\n",
    "with mp_pose.Pose(\n",
    "    static_image_mode=True\n",
    ")as pose:\n",
    "    \n",
    "    image =cv2.imread(\"imagenes/2.jpg\")\n",
    "    height, width, _ = image.shape\n",
    "    imagen_rgb = cv2.cvtColor(image, cv2.COLOR_BGR2RGB)\n",
    "    vectores =[]\n",
    "    results= pose.process(imagen_rgb)\n",
    "    #print(\"Pose landmarks\", results.pose_landmarks )\n",
    "    \n",
    "    if results.pose_landmarks is not None:\n",
    "        \n",
    "        #resultados de las cordeanadas de las extremidades\n",
    "        rightShoulderX= (int(results.pose_landmarks.landmark[mp_pose.PoseLandmark.RIGHT_SHOULDER].x*width))\n",
    "        rightShoulderY=  (int(results.pose_landmarks.landmark[mp_pose.PoseLandmark.RIGHT_SHOULDER].y*height))\n",
    "        rightElbowX= (int(results.pose_landmarks.landmark[mp_pose.PoseLandmark.RIGHT_ELBOW].x*width))\n",
    "        rightElbowY=  (int(results.pose_landmarks.landmark[mp_pose.PoseLandmark.RIGHT_ELBOW].y*height))\n",
    "        rightWristX= (int(results.pose_landmarks.landmark[mp_pose.PoseLandmark.RIGHT_WRIST].x*width))\n",
    "        rightWristY=  (int(results.pose_landmarks.landmark[mp_pose.PoseLandmark.RIGHT_WRIST].y*height))\n",
    "        vectoresX =[rightShoulderX, rightElbowX ]\n",
    "        vectoresY =[rightShoulderY,rightElbowY]\n",
    "        cv2.line(image,(rightShoulderX,rightShoulderY),(rightElbowX,rightElbowY) , (255, 255 , 255), 3)\n",
    "        cv2.line(image,(rightElbowX,rightElbowY),(rightWristX,rightWristY) , (255, 255 , 255), 3)\n",
    "        \n",
    "        vector_AB = (rightElbowX - rightShoulderX, rightElbowY - rightShoulderY)\n",
    "        vector_BC = (rightWristX - rightElbowX, rightWristY - rightElbowY)\n",
    "        cv2.circle(image,(rightShoulderX,rightShoulderY),6 , (128, 0 , 2555), -1)\n",
    "        cv2.circle(image,(rightElbowX,rightElbowY),6 , (128, 0 , 2555), -1)\n",
    "        cv2.circle(image,(rightWristX,rightWristY),6 , (128, 0 , 2555), -1)\n",
    "        '''\n",
    "        mp_drawing.draw_landmarks(image, results.pose_landmarks,\n",
    "                                  mp_pose.POSE_CONNECTIONS,\n",
    "                                  mp_drawing.DrawingSpec(color=(128, 0, 250),\n",
    "                                  thickness=2, circle_radius = 3),\n",
    "                                  mp_drawing.DrawingSpec(color=(255, 255, 250),\n",
    "                                  thickness=2)\n",
    "                                  )\n",
    "        '''\n",
    "    cv2.imshow(\"Image\",image)\n",
    "    cv2.waitKey(0)\n",
    "cv2.destroyAllWindows()"
   ]
  },
  {
   "cell_type": "code",
   "execution_count": 27,
   "metadata": {},
   "outputs": [
    {
     "ename": "AttributeError",
     "evalue": "'tuple' object has no attribute 'dot'",
     "output_type": "error",
     "traceback": [
      "\u001b[1;31m---------------------------------------------------------------------------\u001b[0m",
      "\u001b[1;31mAttributeError\u001b[0m                            Traceback (most recent call last)",
      "Cell \u001b[1;32mIn[27], line 7\u001b[0m\n\u001b[0;32m      3\u001b[0m   \u001b[39mreturn\u001b[39;00m arccos(vector_AB\u001b[39m.\u001b[39mdot(vector_AB)\u001b[39m/\u001b[39m(norm(vector_AB)\u001b[39m*\u001b[39mnorm(vector_BC)))\n\u001b[0;32m      4\u001b[0m plt\u001b[39m.\u001b[39mplot( vector_AB,vector_BC,\u001b[39m'\u001b[39m\u001b[39mbo\u001b[39m\u001b[39m'\u001b[39m)\n\u001b[1;32m----> 7\u001b[0m c\u001b[39m=\u001b[39m angles(vector_AB,vector_BC)\n\u001b[0;32m      8\u001b[0m angle\u001b[39m=\u001b[39m math\u001b[39m.\u001b[39mdegrees(c)\n\u001b[0;32m      9\u001b[0m \u001b[39mprint\u001b[39m(\u001b[39m\"\u001b[39m\u001b[39mthe angle between the two vectors is=\u001b[39m\u001b[39m\"\u001b[39m,angle)\n",
      "Cell \u001b[1;32mIn[27], line 3\u001b[0m, in \u001b[0;36mangles\u001b[1;34m(vector_AB, vector_BC)\u001b[0m\n\u001b[0;32m      1\u001b[0m \u001b[39mdef\u001b[39;00m \u001b[39mangles\u001b[39m(vector_AB, vector_BC): \n\u001b[0;32m      2\u001b[0m   \u001b[39m#using the arccos function from numpy\u001b[39;00m\n\u001b[1;32m----> 3\u001b[0m   \u001b[39mreturn\u001b[39;00m arccos(vector_AB\u001b[39m.\u001b[39;49mdot(vector_AB)\u001b[39m/\u001b[39m(norm(vector_AB)\u001b[39m*\u001b[39mnorm(vector_BC)))\n",
      "\u001b[1;31mAttributeError\u001b[0m: 'tuple' object has no attribute 'dot'"
     ]
    },
    {
     "data": {
      "image/png": "[encoded data removed]",
      "text/plain": [
       "<Figure size 640x480 with 1 Axes>"
      ]
     },
     "metadata": {},
     "output_type": "display_data"
    }
   ],
   "source": [
    "def angles(vector_AB, vector_BC): \n",
    "  #using the arccos function from numpy\n",
    "  return arccos(vector_AB.dot(vector_AB)/(norm(vector_AB)*norm(vector_BC)))\n",
    "plt.plot( vector_AB,vector_BC,'bo')\n",
    "\n",
    "\n",
    "c= angles(vector_AB,vector_BC)\n",
    "angle= math.degrees(c)\n",
    "print(\"the angle between the two vectors is=\",angle)\n"
   ]
  }
 ],
 "metadata": {
  "kernelspec": {
   "display_name": "Python 3",
   "language": "python",
   "name": "python3"
  },
  "language_info": {
   "codemirror_mode": {
    "name": "ipython",
    "version": 3
   },
   "file_extension": ".py",
   "mimetype": "text/x-python",
   "name": "python",
   "nbconvert_exporter": "python",
   "pygments_lexer": "ipython3",
   "version": "3.9.13"
  },
  "orig_nbformat": 4
 },
 "nbformat": 4,
 "nbformat_minor": 2
}
